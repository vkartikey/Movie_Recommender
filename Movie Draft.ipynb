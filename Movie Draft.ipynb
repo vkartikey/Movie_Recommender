{
 "cells": [
  {
   "cell_type": "code",
   "execution_count": 1,
   "id": "b6ea17e7",
   "metadata": {},
   "outputs": [],
   "source": [
    "import pandas as pd\n",
    "import numpy as np\n",
    "from datetime import datetime"
   ]
  },
  {
   "cell_type": "code",
   "execution_count": 2,
   "id": "3c97688b",
   "metadata": {},
   "outputs": [],
   "source": [
    "df = pd.read_csv(r\"C:\\Users\\Asus\\Desktop\\Simplilearn Projects\\Data sets\\TMDB DATASET\\CleanedTMDB1000.csv\")"
   ]
  },
  {
   "cell_type": "code",
   "execution_count": 3,
   "id": "96aaea5e",
   "metadata": {},
   "outputs": [
    {
     "data": {
      "text/html": [
       "<div>\n",
       "<style scoped>\n",
       "    .dataframe tbody tr th:only-of-type {\n",
       "        vertical-align: middle;\n",
       "    }\n",
       "\n",
       "    .dataframe tbody tr th {\n",
       "        vertical-align: top;\n",
       "    }\n",
       "\n",
       "    .dataframe thead th {\n",
       "        text-align: right;\n",
       "    }\n",
       "</style>\n",
       "<table border=\"1\" class=\"dataframe\">\n",
       "  <thead>\n",
       "    <tr style=\"text-align: right;\">\n",
       "      <th></th>\n",
       "      <th>Unnamed: 0</th>\n",
       "      <th>adult</th>\n",
       "      <th>backdrop_path</th>\n",
       "      <th>genre_ids</th>\n",
       "      <th>id</th>\n",
       "      <th>original_language</th>\n",
       "      <th>original_title</th>\n",
       "      <th>overview</th>\n",
       "      <th>popularity</th>\n",
       "      <th>poster_path</th>\n",
       "      <th>release_date</th>\n",
       "      <th>title</th>\n",
       "      <th>video</th>\n",
       "      <th>vote_average</th>\n",
       "      <th>vote_count</th>\n",
       "      <th>keywords</th>\n",
       "      <th>cast</th>\n",
       "      <th>crew</th>\n",
       "    </tr>\n",
       "  </thead>\n",
       "  <tbody>\n",
       "    <tr>\n",
       "      <th>0</th>\n",
       "      <td>0</td>\n",
       "      <td>False</td>\n",
       "      <td>https://image.tmdb.org/t/p/original//xOA4MbyJZ...</td>\n",
       "      <td>['Drama', 'Crime']</td>\n",
       "      <td>238</td>\n",
       "      <td>en</td>\n",
       "      <td>The Godfather</td>\n",
       "      <td>Spanning the years 1945 to 1955, a chronicle o...</td>\n",
       "      <td>124.718</td>\n",
       "      <td>https://image.tmdb.org/t/p/original//3bhkrj58V...</td>\n",
       "      <td>1972-03-14</td>\n",
       "      <td>The Godfather</td>\n",
       "      <td>False</td>\n",
       "      <td>8.7</td>\n",
       "      <td>18148</td>\n",
       "      <td>[{'id': 131, 'name': 'italy'}, {'id': 697, 'na...</td>\n",
       "      <td>[{'adult': False, 'gender': 2, 'id': 3084, 'kn...</td>\n",
       "      <td>[{'adult': False, 'gender': 2, 'id': 154, 'kno...</td>\n",
       "    </tr>\n",
       "    <tr>\n",
       "      <th>1</th>\n",
       "      <td>1</td>\n",
       "      <td>False</td>\n",
       "      <td>https://image.tmdb.org/t/p/original//xOA4MbyJZ...</td>\n",
       "      <td>['Drama', 'Crime']</td>\n",
       "      <td>278</td>\n",
       "      <td>en</td>\n",
       "      <td>The Shawshank Redemption</td>\n",
       "      <td>Framed in the 1940s for the double murder of h...</td>\n",
       "      <td>92.927</td>\n",
       "      <td>https://image.tmdb.org/t/p/original//lyQBXzOQS...</td>\n",
       "      <td>1994-09-23</td>\n",
       "      <td>The Shawshank Redemption</td>\n",
       "      <td>False</td>\n",
       "      <td>8.7</td>\n",
       "      <td>24030</td>\n",
       "      <td>[{'id': 378, 'name': 'prison'}, {'id': 417, 'n...</td>\n",
       "      <td>[{'adult': False, 'gender': 2, 'id': 504, 'kno...</td>\n",
       "      <td>[{'adult': False, 'gender': 2, 'id': 153, 'kno...</td>\n",
       "    </tr>\n",
       "    <tr>\n",
       "      <th>2</th>\n",
       "      <td>2</td>\n",
       "      <td>False</td>\n",
       "      <td>https://image.tmdb.org/t/p/original//xOA4MbyJZ...</td>\n",
       "      <td>['Drama', 'Crime']</td>\n",
       "      <td>240</td>\n",
       "      <td>en</td>\n",
       "      <td>The Godfather Part II</td>\n",
       "      <td>In the continuing saga of the Corleone crime f...</td>\n",
       "      <td>61.583</td>\n",
       "      <td>https://image.tmdb.org/t/p/original//bMadFzhjy...</td>\n",
       "      <td>1974-12-20</td>\n",
       "      <td>The Godfather Part II</td>\n",
       "      <td>False</td>\n",
       "      <td>8.6</td>\n",
       "      <td>10955</td>\n",
       "      <td>[{'id': 131, 'name': 'italy'}, {'id': 700, 'na...</td>\n",
       "      <td>[{'adult': False, 'gender': 2, 'id': 1158, 'kn...</td>\n",
       "      <td>[{'adult': False, 'gender': 2, 'id': 154, 'kno...</td>\n",
       "    </tr>\n",
       "  </tbody>\n",
       "</table>\n",
       "</div>"
      ],
      "text/plain": [
       "   Unnamed: 0  adult                                      backdrop_path  \\\n",
       "0           0  False  https://image.tmdb.org/t/p/original//xOA4MbyJZ...   \n",
       "1           1  False  https://image.tmdb.org/t/p/original//xOA4MbyJZ...   \n",
       "2           2  False  https://image.tmdb.org/t/p/original//xOA4MbyJZ...   \n",
       "\n",
       "            genre_ids   id original_language            original_title  \\\n",
       "0  ['Drama', 'Crime']  238                en             The Godfather   \n",
       "1  ['Drama', 'Crime']  278                en  The Shawshank Redemption   \n",
       "2  ['Drama', 'Crime']  240                en     The Godfather Part II   \n",
       "\n",
       "                                            overview  popularity  \\\n",
       "0  Spanning the years 1945 to 1955, a chronicle o...     124.718   \n",
       "1  Framed in the 1940s for the double murder of h...      92.927   \n",
       "2  In the continuing saga of the Corleone crime f...      61.583   \n",
       "\n",
       "                                         poster_path release_date  \\\n",
       "0  https://image.tmdb.org/t/p/original//3bhkrj58V...   1972-03-14   \n",
       "1  https://image.tmdb.org/t/p/original//lyQBXzOQS...   1994-09-23   \n",
       "2  https://image.tmdb.org/t/p/original//bMadFzhjy...   1974-12-20   \n",
       "\n",
       "                      title  video  vote_average  vote_count  \\\n",
       "0             The Godfather  False           8.7       18148   \n",
       "1  The Shawshank Redemption  False           8.7       24030   \n",
       "2     The Godfather Part II  False           8.6       10955   \n",
       "\n",
       "                                            keywords  \\\n",
       "0  [{'id': 131, 'name': 'italy'}, {'id': 697, 'na...   \n",
       "1  [{'id': 378, 'name': 'prison'}, {'id': 417, 'n...   \n",
       "2  [{'id': 131, 'name': 'italy'}, {'id': 700, 'na...   \n",
       "\n",
       "                                                cast  \\\n",
       "0  [{'adult': False, 'gender': 2, 'id': 3084, 'kn...   \n",
       "1  [{'adult': False, 'gender': 2, 'id': 504, 'kno...   \n",
       "2  [{'adult': False, 'gender': 2, 'id': 1158, 'kn...   \n",
       "\n",
       "                                                crew  \n",
       "0  [{'adult': False, 'gender': 2, 'id': 154, 'kno...  \n",
       "1  [{'adult': False, 'gender': 2, 'id': 153, 'kno...  \n",
       "2  [{'adult': False, 'gender': 2, 'id': 154, 'kno...  "
      ]
     },
     "execution_count": 3,
     "metadata": {},
     "output_type": "execute_result"
    }
   ],
   "source": [
    "df.head(3)"
   ]
  },
  {
   "cell_type": "code",
   "execution_count": 4,
   "id": "c4979d09",
   "metadata": {},
   "outputs": [
    {
     "data": {
      "text/html": [
       "<div>\n",
       "<style scoped>\n",
       "    .dataframe tbody tr th:only-of-type {\n",
       "        vertical-align: middle;\n",
       "    }\n",
       "\n",
       "    .dataframe tbody tr th {\n",
       "        vertical-align: top;\n",
       "    }\n",
       "\n",
       "    .dataframe thead th {\n",
       "        text-align: right;\n",
       "    }\n",
       "</style>\n",
       "<table border=\"1\" class=\"dataframe\">\n",
       "  <thead>\n",
       "    <tr style=\"text-align: right;\">\n",
       "      <th></th>\n",
       "      <th>Unnamed: 0</th>\n",
       "      <th>adult</th>\n",
       "      <th>backdrop_path</th>\n",
       "      <th>genre_ids</th>\n",
       "      <th>id</th>\n",
       "      <th>original_language</th>\n",
       "      <th>original_title</th>\n",
       "      <th>overview</th>\n",
       "      <th>popularity</th>\n",
       "      <th>poster_path</th>\n",
       "      <th>release_date</th>\n",
       "      <th>title</th>\n",
       "      <th>video</th>\n",
       "      <th>vote_average</th>\n",
       "      <th>vote_count</th>\n",
       "      <th>keywords</th>\n",
       "      <th>cast</th>\n",
       "      <th>crew</th>\n",
       "      <th>year</th>\n",
       "    </tr>\n",
       "  </thead>\n",
       "  <tbody>\n",
       "    <tr>\n",
       "      <th>0</th>\n",
       "      <td>0</td>\n",
       "      <td>False</td>\n",
       "      <td>https://image.tmdb.org/t/p/original//xOA4MbyJZ...</td>\n",
       "      <td>['Drama', 'Crime']</td>\n",
       "      <td>238</td>\n",
       "      <td>en</td>\n",
       "      <td>The Godfather</td>\n",
       "      <td>Spanning the years 1945 to 1955, a chronicle o...</td>\n",
       "      <td>124.718</td>\n",
       "      <td>https://image.tmdb.org/t/p/original//3bhkrj58V...</td>\n",
       "      <td>1972-03-14</td>\n",
       "      <td>The Godfather</td>\n",
       "      <td>False</td>\n",
       "      <td>8.7</td>\n",
       "      <td>18148</td>\n",
       "      <td>[{'id': 131, 'name': 'italy'}, {'id': 697, 'na...</td>\n",
       "      <td>[{'adult': False, 'gender': 2, 'id': 3084, 'kn...</td>\n",
       "      <td>[{'adult': False, 'gender': 2, 'id': 154, 'kno...</td>\n",
       "      <td>1972</td>\n",
       "    </tr>\n",
       "  </tbody>\n",
       "</table>\n",
       "</div>"
      ],
      "text/plain": [
       "   Unnamed: 0  adult                                      backdrop_path  \\\n",
       "0           0  False  https://image.tmdb.org/t/p/original//xOA4MbyJZ...   \n",
       "\n",
       "            genre_ids   id original_language original_title  \\\n",
       "0  ['Drama', 'Crime']  238                en  The Godfather   \n",
       "\n",
       "                                            overview  popularity  \\\n",
       "0  Spanning the years 1945 to 1955, a chronicle o...     124.718   \n",
       "\n",
       "                                         poster_path release_date  \\\n",
       "0  https://image.tmdb.org/t/p/original//3bhkrj58V...   1972-03-14   \n",
       "\n",
       "           title  video  vote_average  vote_count  \\\n",
       "0  The Godfather  False           8.7       18148   \n",
       "\n",
       "                                            keywords  \\\n",
       "0  [{'id': 131, 'name': 'italy'}, {'id': 697, 'na...   \n",
       "\n",
       "                                                cast  \\\n",
       "0  [{'adult': False, 'gender': 2, 'id': 3084, 'kn...   \n",
       "\n",
       "                                                crew  year  \n",
       "0  [{'adult': False, 'gender': 2, 'id': 154, 'kno...  1972  "
      ]
     },
     "execution_count": 4,
     "metadata": {},
     "output_type": "execute_result"
    }
   ],
   "source": [
    "df['year'] = pd.DatetimeIndex(df['release_date']).year\n",
    "df.head(1)"
   ]
  },
  {
   "cell_type": "code",
   "execution_count": 5,
   "id": "f0aa9d0c",
   "metadata": {},
   "outputs": [
    {
     "data": {
      "text/plain": [
       "Unnamed: 0           0\n",
       "adult                0\n",
       "backdrop_path        0\n",
       "genre_ids            0\n",
       "id                   0\n",
       "original_language    0\n",
       "original_title       0\n",
       "overview             2\n",
       "popularity           0\n",
       "poster_path          0\n",
       "release_date         0\n",
       "title                0\n",
       "video                0\n",
       "vote_average         0\n",
       "vote_count           0\n",
       "keywords             0\n",
       "cast                 0\n",
       "crew                 0\n",
       "year                 0\n",
       "dtype: int64"
      ]
     },
     "execution_count": 5,
     "metadata": {},
     "output_type": "execute_result"
    }
   ],
   "source": [
    "df.isnull().sum()"
   ]
  },
  {
   "cell_type": "code",
   "execution_count": 6,
   "id": "0938c909",
   "metadata": {},
   "outputs": [
    {
     "data": {
      "text/plain": [
       "(10000, 19)"
      ]
     },
     "execution_count": 6,
     "metadata": {},
     "output_type": "execute_result"
    }
   ],
   "source": [
    "df.shape"
   ]
  },
  {
   "cell_type": "code",
   "execution_count": 7,
   "id": "a87c8da4",
   "metadata": {},
   "outputs": [],
   "source": [
    "df.drop(\"Unnamed: 0\", axis =1, inplace = True)"
   ]
  },
  {
   "cell_type": "code",
   "execution_count": 8,
   "id": "2bbef6b5",
   "metadata": {},
   "outputs": [
    {
     "data": {
      "text/plain": [
       "(10000, 18)"
      ]
     },
     "execution_count": 8,
     "metadata": {},
     "output_type": "execute_result"
    }
   ],
   "source": [
    "df.shape"
   ]
  },
  {
   "cell_type": "code",
   "execution_count": 9,
   "id": "4e38f50d",
   "metadata": {},
   "outputs": [
    {
     "data": {
      "text/html": [
       "<div>\n",
       "<style scoped>\n",
       "    .dataframe tbody tr th:only-of-type {\n",
       "        vertical-align: middle;\n",
       "    }\n",
       "\n",
       "    .dataframe tbody tr th {\n",
       "        vertical-align: top;\n",
       "    }\n",
       "\n",
       "    .dataframe thead th {\n",
       "        text-align: right;\n",
       "    }\n",
       "</style>\n",
       "<table border=\"1\" class=\"dataframe\">\n",
       "  <thead>\n",
       "    <tr style=\"text-align: right;\">\n",
       "      <th></th>\n",
       "      <th>adult</th>\n",
       "      <th>backdrop_path</th>\n",
       "      <th>genre_ids</th>\n",
       "      <th>id</th>\n",
       "      <th>original_language</th>\n",
       "      <th>original_title</th>\n",
       "      <th>overview</th>\n",
       "      <th>popularity</th>\n",
       "      <th>poster_path</th>\n",
       "      <th>release_date</th>\n",
       "      <th>title</th>\n",
       "      <th>video</th>\n",
       "      <th>vote_average</th>\n",
       "      <th>vote_count</th>\n",
       "      <th>keywords</th>\n",
       "      <th>cast</th>\n",
       "      <th>crew</th>\n",
       "      <th>year</th>\n",
       "    </tr>\n",
       "  </thead>\n",
       "  <tbody>\n",
       "    <tr>\n",
       "      <th>0</th>\n",
       "      <td>False</td>\n",
       "      <td>https://image.tmdb.org/t/p/original//xOA4MbyJZ...</td>\n",
       "      <td>['Drama', 'Crime']</td>\n",
       "      <td>238</td>\n",
       "      <td>en</td>\n",
       "      <td>The Godfather</td>\n",
       "      <td>Spanning the years 1945 to 1955, a chronicle o...</td>\n",
       "      <td>124.718</td>\n",
       "      <td>https://image.tmdb.org/t/p/original//3bhkrj58V...</td>\n",
       "      <td>1972-03-14</td>\n",
       "      <td>The Godfather</td>\n",
       "      <td>False</td>\n",
       "      <td>8.7</td>\n",
       "      <td>18148</td>\n",
       "      <td>[{'id': 131, 'name': 'italy'}, {'id': 697, 'na...</td>\n",
       "      <td>[{'adult': False, 'gender': 2, 'id': 3084, 'kn...</td>\n",
       "      <td>[{'adult': False, 'gender': 2, 'id': 154, 'kno...</td>\n",
       "      <td>1972</td>\n",
       "    </tr>\n",
       "  </tbody>\n",
       "</table>\n",
       "</div>"
      ],
      "text/plain": [
       "   adult                                      backdrop_path  \\\n",
       "0  False  https://image.tmdb.org/t/p/original//xOA4MbyJZ...   \n",
       "\n",
       "            genre_ids   id original_language original_title  \\\n",
       "0  ['Drama', 'Crime']  238                en  The Godfather   \n",
       "\n",
       "                                            overview  popularity  \\\n",
       "0  Spanning the years 1945 to 1955, a chronicle o...     124.718   \n",
       "\n",
       "                                         poster_path release_date  \\\n",
       "0  https://image.tmdb.org/t/p/original//3bhkrj58V...   1972-03-14   \n",
       "\n",
       "           title  video  vote_average  vote_count  \\\n",
       "0  The Godfather  False           8.7       18148   \n",
       "\n",
       "                                            keywords  \\\n",
       "0  [{'id': 131, 'name': 'italy'}, {'id': 697, 'na...   \n",
       "\n",
       "                                                cast  \\\n",
       "0  [{'adult': False, 'gender': 2, 'id': 3084, 'kn...   \n",
       "\n",
       "                                                crew  year  \n",
       "0  [{'adult': False, 'gender': 2, 'id': 154, 'kno...  1972  "
      ]
     },
     "execution_count": 9,
     "metadata": {},
     "output_type": "execute_result"
    }
   ],
   "source": [
    "df.head(1)"
   ]
  },
  {
   "cell_type": "code",
   "execution_count": 10,
   "id": "858ea9e3",
   "metadata": {},
   "outputs": [
    {
     "name": "stdout",
     "output_type": "stream",
     "text": [
      "<class 'pandas.core.frame.DataFrame'>\n",
      "RangeIndex: 10000 entries, 0 to 9999\n",
      "Data columns (total 18 columns):\n",
      " #   Column             Non-Null Count  Dtype  \n",
      "---  ------             --------------  -----  \n",
      " 0   adult              10000 non-null  bool   \n",
      " 1   backdrop_path      10000 non-null  object \n",
      " 2   genre_ids          10000 non-null  object \n",
      " 3   id                 10000 non-null  int64  \n",
      " 4   original_language  10000 non-null  object \n",
      " 5   original_title     10000 non-null  object \n",
      " 6   overview           9998 non-null   object \n",
      " 7   popularity         10000 non-null  float64\n",
      " 8   poster_path        10000 non-null  object \n",
      " 9   release_date       10000 non-null  object \n",
      " 10  title              10000 non-null  object \n",
      " 11  video              10000 non-null  bool   \n",
      " 12  vote_average       10000 non-null  float64\n",
      " 13  vote_count         10000 non-null  int64  \n",
      " 14  keywords           10000 non-null  object \n",
      " 15  cast               10000 non-null  object \n",
      " 16  crew               10000 non-null  object \n",
      " 17  year               10000 non-null  int64  \n",
      "dtypes: bool(2), float64(2), int64(3), object(11)\n",
      "memory usage: 1.2+ MB\n"
     ]
    }
   ],
   "source": [
    "df.info()"
   ]
  },
  {
   "cell_type": "code",
   "execution_count": 11,
   "id": "96454a1c",
   "metadata": {
    "scrolled": true
   },
   "outputs": [
    {
     "data": {
      "text/plain": [
       "array(['[{\\'adult\\': False, \\'gender\\': 2, \\'id\\': 3084, \\'known_for_department\\': \\'Acting\\', \\'name\\': \\'Marlon Brando\\', \\'original_name\\': \\'Marlon Brando\\', \\'popularity\\': 20.083, \\'profile_path\\': \\'/fuTEPMsBtV1zE98ujPONbKiYDc2.jpg\\', \\'cast_id\\': 146, \\'character\\': \\'Don Vito Corleone\\', \\'credit_id\\': \\'6489aa85e2726001072483a9\\', \\'order\\': 0}, {\\'adult\\': False, \\'gender\\': 2, \\'id\\': 1158, \\'known_for_department\\': \\'Acting\\', \\'name\\': \\'Al Pacino\\', \\'original_name\\': \\'Al Pacino\\', \\'popularity\\': 35.377, \\'profile_path\\': \\'/fMDFeVf0pjopTJbyRSLFwNDm8Wr.jpg\\', \\'cast_id\\': 147, \\'character\\': \\'Michael Corleone\\', \\'credit_id\\': \\'6489aa936f8d9500afdf219c\\', \\'order\\': 1}, {\\'adult\\': False, \\'gender\\': 2, \\'id\\': 3085, \\'known_for_department\\': \\'Acting\\', \\'name\\': \\'James Caan\\', \\'original_name\\': \\'James Caan\\', \\'popularity\\': 19.723, \\'profile_path\\': \\'/v3flJtQEyczxENi29yJyvnN6LVt.jpg\\', \\'cast_id\\': 148, \\'character\\': \\'Sonny Corleone\\', \\'credit_id\\': \\'6489aabc99259c00ff111136\\', \\'order\\': 2}, {\\'adult\\': False, \\'gender\\': 2, \\'id\\': 3087, \\'known_for_department\\': \\'Acting\\', \\'name\\': \\'Robert Duvall\\', \\'original_name\\': \\'Robert Duvall\\', \\'popularity\\': 20.504, \\'profile_path\\': \\'/3tcKxC5Sc3DJ6XPDKKC2EAomEWn.jpg\\', \\'cast_id\\': 149, \\'character\\': \\'Tom Hagen\\', \\'credit_id\\': \\'6489aace99259c011c42808d\\', \\'order\\': 3}, {\\'adult\\': False, \\'gender\\': 2, \\'id\\': 3086, \\'known_for_department\\': \\'Acting\\', \\'name\\': \\'Richard S. Castellano\\', \\'original_name\\': \\'Richard S. Castellano\\', \\'popularity\\': 8.161, \\'profile_path\\': \\'/1vr75BdHWret81vuSJ3ugiCBkxw.jpg\\', \\'cast_id\\': 150, \\'character\\': \\'Clemenza\\', \\'credit_id\\': \\'6489aaf86f8d9500c88bea14\\', \\'order\\': 4}, {\\'adult\\': False, \\'gender\\': 1, \\'id\\': 3092, \\'known_for_department\\': \\'Acting\\', \\'name\\': \\'Diane Keaton\\', \\'original_name\\': \\'Diane Keaton\\', \\'popularity\\': 29.682, \\'profile_path\\': \\'/tnx7pJqisfAzvXOR5wHQsbnH9XH.jpg\\', \\'cast_id\\': 151, \\'character\\': \\'Kay Adams\\', \\'credit_id\\': \\'6489ab23bf31f25055a33a46\\', \\'order\\': 5}, {\\'adult\\': False, \\'gender\\': 1, \\'id\\': 3094, \\'known_for_department\\': \\'Acting\\', \\'name\\': \\'Talia Shire\\', \\'original_name\\': \\'Talia Shire\\', \\'popularity\\': 18.507, \\'profile_path\\': \\'/due9MtmbvCMDd1aNveuMyjsaZ8W.jpg\\', \\'cast_id\\': 152, \\'character\\': \\'Connie Corleone Rizzi\\', \\'credit_id\\': \\'6489ab5799259c011c4280d8\\', \\'order\\': 6}, {\\'adult\\': False, \\'gender\\': 2, \\'id\\': 3095, \\'known_for_department\\': \\'Acting\\', \\'name\\': \\'Gianni Russo\\', \\'original_name\\': \\'Gianni Russo\\', \\'popularity\\': 9.933, \\'profile_path\\': \\'/5fjg2WPvuk1NvUpLyQ7aMJqOqy.jpg\\', \\'cast_id\\': 153, \\'character\\': \\'Carlo Rizzi\\', \\'credit_id\\': \\'6489ab77e375c00139c26e5b\\', \\'order\\': 7}, {\\'adult\\': False, \\'gender\\': 2, \\'id\\': 3088, \\'known_for_department\\': \\'Acting\\', \\'name\\': \\'Sterling Hayden\\', \\'original_name\\': \\'Sterling Hayden\\', \\'popularity\\': 10.416, \\'profile_path\\': \\'/dCTe6BsGSp9QTcva2Pz4wbxxYMY.jpg\\', \\'cast_id\\': 154, \\'character\\': \\'Captain McCluskey\\', \\'credit_id\\': \\'6489abe0d2b209014e0b8df9\\', \\'order\\': 8}, {\\'adult\\': False, \\'gender\\': 2, \\'id\\': 3142, \\'known_for_department\\': \\'Acting\\', \\'name\\': \\'John Marley\\', \\'original_name\\': \\'John Marley\\', \\'popularity\\': 9.216, \\'profile_path\\': \\'/k8YnXZDhhn28bSE75tLz9juR46u.jpg\\', \\'cast_id\\': 155, \\'character\\': \\'Jack Woltz\\', \\'credit_id\\': \\'6489ac0299259c011c42811f\\', \\'order\\': 9}, {\\'adult\\': False, \\'gender\\': 2, \\'id\\': 3090, \\'known_for_department\\': \\'Acting\\', \\'name\\': \\'Richard Conte\\', \\'original_name\\': \\'Richard Conte\\', \\'popularity\\': 9.207, \\'profile_path\\': \\'/bDegodf4dYGXMejdm4T6XgOJwlr.jpg\\', \\'cast_id\\': 156, \\'character\\': \\'Barzini\\', \\'credit_id\\': \\'6489ac126f8d9500afdf2251\\', \\'order\\': 10}, {\\'adult\\': False, \\'gender\\': 2, \\'id\\': 3091, \\'known_for_department\\': \\'Acting\\', \\'name\\': \\'Al Lettieri\\', \\'original_name\\': \\'Al Lettieri\\', \\'popularity\\': 14.012, \\'profile_path\\': \\'/fE5mEWPkkVJlCji0EoKht8PYw89.jpg\\', \\'cast_id\\': 157, \\'character\\': \\'Sollozzo\\', \\'credit_id\\': \\'6489ac20e375c000acc796d1\\', \\'order\\': 11}, {\\'adult\\': False, \\'gender\\': 2, \\'id\\': 3093, \\'known_for_department\\': \\'Acting\\', \\'name\\': \\'Abe Vigoda\\', \\'original_name\\': \\'Abe Vigoda\\', \\'popularity\\': 5.94, \\'profile_path\\': \\'/luWKPNb58IgJ2ovrtgPAzHGLLYL.jpg\\', \\'cast_id\\': 158, \\'character\\': \\'Sal Tessio\\', \\'credit_id\\': \\'6489ac2dbf31f2505708a65c\\', \\'order\\': 12}, {\\'adult\\': False, \\'gender\\': 2, \\'id\\': 3096, \\'known_for_department\\': \\'Acting\\', \\'name\\': \\'John Cazale\\', \\'original_name\\': \\'John Cazale\\', \\'popularity\\': 8.306, \\'profile_path\\': \\'/41wXX1FBalyIuf5eaA4S43Y8IfZ.jpg\\', \\'cast_id\\': 159, \\'character\\': \\'Fredo Corleone\\', \\'credit_id\\': \\'6489ac3a6f8d9500afdf2260\\', \\'order\\': 13}, {\\'adult\\': False, \\'gender\\': 2, \\'id\\': 3143, \\'known_for_department\\': \\'Acting\\', \\'name\\': \\'Rudy Bond\\', \\'original_name\\': \\'Rudy Bond\\', \\'popularity\\': 3.816, \\'profile_path\\': \\'/kP77m6ot9dfOR2V3ykbyOAx2diK.jpg\\', \\'cast_id\\': 160, \\'character\\': \\'Cuneo\\', \\'credit_id\\': \\'6489ac5de375c00139c26eb2\\', \\'order\\': 14}, {\\'adult\\': False, \\'gender\\': 2, \\'id\\': 3144, \\'known_for_department\\': \\'Acting\\', \\'name\\': \\'Al Martino\\', \\'original_name\\': \\'Al Martino\\', \\'popularity\\': 3.008, \\'profile_path\\': \\'/9luOyyiqWFNQgSOSStH66LTWZ3p.jpg\\', \\'cast_id\\': 161, \\'character\\': \\'Johnny Fontane\\', \\'credit_id\\': \\'6489ac7199259c01392da0db\\', \\'order\\': 15}, {\\'adult\\': False, \\'gender\\': 1, \\'id\\': 933716, \\'known_for_department\\': \\'Acting\\', \\'name\\': \\'Morgana King\\', \\'original_name\\': \\'Morgana King\\', \\'popularity\\': 2.882, \\'profile_path\\': \\'/zPsFAqH4NXD7rMWl2Kj3rEyGrKj.jpg\\', \\'cast_id\\': 162, \\'character\\': \\'Mama Corleone\\', \\'credit_id\\': \\'6489ac82e272600107248470\\', \\'order\\': 16}, {\\'adult\\': False, \\'gender\\': 2, \\'id\\': 106811, \\'known_for_department\\': \\'Acting\\', \\'name\\': \\'Lenny Montana\\', \\'original_name\\': \\'Lenny Montana\\', \\'popularity\\': 7.833, \\'profile_path\\': \\'/3R52Zh3MBCaSPqmcyWcD1Y0N4wo.jpg\\', \\'cast_id\\': 163, \\'character\\': \\'Luca Brasi\\', \\'credit_id\\': \\'6489ac90d2b20900ca220c08\\', \\'order\\': 17}, {\\'adult\\': False, \\'gender\\': 2, \\'id\\': 99724, \\'known_for_department\\': \\'Acting\\', \\'name\\': \\'John Martino\\', \\'original_name\\': \\'John Martino\\', \\'popularity\\': 2.739, \\'profile_path\\': \\'/3c8BOgJ8UdHi5x5BS3lYnFngxB5.jpg\\', \\'cast_id\\': 164, \\'character\\': \\'Paulie Gatto\\', \\'credit_id\\': \\'6489ac9dd2b20900ca220c0f\\', \\'order\\': 18}, {\\'adult\\': False, \\'gender\\': 2, \\'id\\': 1195877, \\'known_for_department\\': \\'Acting\\', \\'name\\': \\'Salvatore Corsitto\\', \\'original_name\\': \\'Salvatore Corsitto\\', \\'popularity\\': 2.561, \\'profile_path\\': \\'/79OfgwtdP5qsR1UX6ERkrdmRT8c.jpg\\', \\'cast_id\\': 165, \\'character\\': \\'Bonasera\\', \\'credit_id\\': \\'6489acaae375c000acc79705\\', \\'order\\': 19}, {\\'adult\\': False, \\'gender\\': 2, \\'id\\': 3174, \\'known_for_department\\': \\'Acting\\', \\'name\\': \\'Richard Bright\\', \\'original_name\\': \\'Richard Bright\\', \\'popularity\\': 7.396, \\'profile_path\\': \\'/b1ak2kPYUwBAYgD1yi50tz8BZ7J.jpg\\', \\'cast_id\\': 166, \\'character\\': \\'Neri\\', \\'credit_id\\': \\'6489acc2bf31f25054b828e4\\', \\'order\\': 20}, {\\'adult\\': False, \\'gender\\': 2, \\'id\\': 20752, \\'known_for_department\\': \\'Acting\\', \\'name\\': \\'Alex Rocco\\', \\'original_name\\': \\'Alex Rocco\\', \\'popularity\\': 7.438, \\'profile_path\\': \\'/uAG4qvYhYHuCyyXGm3lqC4o6ujc.jpg\\', \\'cast_id\\': 167, \\'character\\': \\'Moe Greene\\', \\'credit_id\\': \\'6489acd1d2b20900ad3ec8cf\\', \\'order\\': 21}, {\\'adult\\': False, \\'gender\\': 2, \\'id\\': 3414, \\'known_for_department\\': \\'Acting\\', \\'name\\': \\'Tony Giorgio\\', \\'original_name\\': \\'Tony Giorgio\\', \\'popularity\\': 6.017, \\'profile_path\\': \\'/1uhgwgjoX7WaakEOBmtBRJKtgEB.jpg\\', \\'cast_id\\': 168, \\'character\\': \\'Bruno Tattaglia\\', \\'credit_id\\': \\'6489ad08bf31f25055a33b08\\', \\'order\\': 22}, {\\'adult\\': False, \\'gender\\': 2, \\'id\\': 82779, \\'known_for_department\\': \\'Acting\\', \\'name\\': \\'Vito Scotti\\', \\'original_name\\': \\'Vito Scotti\\', \\'popularity\\': 5.557, \\'profile_path\\': \\'/zDGtXkASxpo3DzMNz6OI3NOp9v0.jpg\\', \\'cast_id\\': 169, \\'character\\': \\'Nazorine\\', \\'credit_id\\': \\'6489ad166f8d9501023e6cb2\\', \\'order\\': 23}, {\\'adult\\': False, \\'gender\\': 1, \\'id\\': 982089, \\'known_for_department\\': \\'Acting\\', \\'name\\': \\'Tere Livrano\\', \\'original_name\\': \\'Tere Livrano\\', \\'popularity\\': 2.698, \\'profile_path\\': \\'/eBoC3425jmwRlsT2W8qUDsNwVXB.jpg\\', \\'cast_id\\': 170, \\'character\\': \\'Theresa Hagen\\', \\'credit_id\\': \\'6489ad23d2b20900ad3ec8f9\\', \\'order\\': 24}, {\\'adult\\': False, \\'gender\\': 2, \\'id\\': 3413, \\'known_for_department\\': \\'Acting\\', \\'name\\': \\'Victor Rendina\\', \\'original_name\\': \\'Victor Rendina\\', \\'popularity\\': 2.286, \\'profile_path\\': \\'/vuNdsjDpgom80WBdB2WBTWuEIuM.jpg\\', \\'cast_id\\': 171, \\'character\\': \\'Philip Tattaglia\\', \\'credit_id\\': \\'6489ad306f8d9500c88beb2c\\', \\'order\\': 25}, {\\'adult\\': False, \\'gender\\': 1, \\'id\\': 167363, \\'known_for_department\\': \\'Acting\\', \\'name\\': \\'Jeannie Linero\\', \\'original_name\\': \\'Jeannie Linero\\', \\'popularity\\': 4.271, \\'profile_path\\': None, \\'cast_id\\': 172, \\'character\\': \\'Lucy Mancini\\', \\'credit_id\\': \\'6489ad4f6f8d95011f2439db\\', \\'order\\': 26}, {\\'adult\\': False, \\'gender\\': 1, \\'id\\': 160728, \\'known_for_department\\': \\'Acting\\', \\'name\\': \\'Julie Gregg\\', \\'original_name\\': \\'Julie Gregg\\', \\'popularity\\': 7.447, \\'profile_path\\': \\'/8Kx71BnZNtpzb86jH7fcArWhJBh.jpg\\', \\'cast_id\\': 173, \\'character\\': \\'Sandra Corleone\\', \\'credit_id\\': \\'6489ad696f8d9500c88beb4e\\', \\'order\\': 27}, {\\'adult\\': False, \\'gender\\': 1, \\'id\\': 4111331, \\'known_for_department\\': \\'Acting\\', \\'name\\': \\'Ardell Sheridan\\', \\'original_name\\': \\'Ardell Sheridan\\', \\'popularity\\': 1.786, \\'profile_path\\': None, \\'cast_id\\': 174, \\'character\\': \\'Mrs. Clemenza\\', \\'credit_id\\': \\'6489adb8bf31f25054b8295f\\', \\'order\\': 28}, {\\'adult\\': False, \\'gender\\': 1, \\'id\\': 3145, \\'known_for_department\\': \\'Acting\\', \\'name\\': \\'Simonetta Stefanelli\\', \\'original_name\\': \\'Simonetta Stefanelli\\', \\'popularity\\': 18.623, \\'profile_path\\': \\'/sVDrhgxuE6SHnj7q07OG6ywPUYR.jpg\\', \\'cast_id\\': 175, \\'character\\': \\'Apollonia - Sicilian Sequence\\', \\'credit_id\\': \\'6489ae04bf31f25055a33b87\\', \\'order\\': 29}, {\\'adult\\': False, \\'gender\\': 2, \\'id\\': 27647, \\'known_for_department\\': \\'Acting\\', \\'name\\': \\'Angelo Infanti\\', \\'original_name\\': \\'Angelo Infanti\\', \\'popularity\\': 7.56, \\'profile_path\\': \\'/dkRVpiDj9YyiuM15XZKT11zZBIR.jpg\\', \\'cast_id\\': 176, \\'character\\': \\'Fabrizio - Sicilian Sequence\\', \\'credit_id\\': \\'6489ae14d2b20900ca220cca\\', \\'order\\': 30}, {\\'adult\\': False, \\'gender\\': 2, \\'id\\': 24604, \\'known_for_department\\': \\'Acting\\', \\'name\\': \\'Corrado Gaipa\\', \\'original_name\\': \\'Corrado Gaipa\\', \\'popularity\\': 3.842, \\'profile_path\\': \\'/4QkQQwEhzx7kofdChg2stkIgMLe.jpg\\', \\'cast_id\\': 177, \\'character\\': \\'Don Tommasino - Sicilian Sequence\\', \\'credit_id\\': \\'6489ae21d2b20900ca220cd4\\', \\'order\\': 31}, {\\'adult\\': False, \\'gender\\': 2, \\'id\\': 44860, \\'known_for_department\\': \\'Acting\\', \\'name\\': \\'Franco Citti\\', \\'original_name\\': \\'Franco Citti\\', \\'popularity\\': 5.357, \\'profile_path\\': \\'/mttQPjOHaql4RKsfYriUA7HuROE.jpg\\', \\'cast_id\\': 178, \\'character\\': \\'Calo - Sicilian Sequence\\', \\'credit_id\\': \\'6489ae2e6f8d9500c88bebcf\\', \\'order\\': 32}, {\\'adult\\': False, \\'gender\\': 2, \\'id\\': 119431, \\'known_for_department\\': \\'Acting\\', \\'name\\': \\'Saro Urzì\\', \\'original_name\\': \\'Saro Urzì\\', \\'popularity\\': 4.84, \\'profile_path\\': \\'/wp88yz8T1TJcw5egiDu1m5a302D.jpg\\', \\'cast_id\\': 179, \\'character\\': \\'Vitelli - Sicilian Sequence\\', \\'credit_id\\': \\'6489ae3ce2726000afc4c253\\', \\'order\\': 33}, {\\'adult\\': False, \\'gender\\': 2, \\'id\\': 38803, \\'known_for_department\\': \\'Writing\\', \\'name\\': \\'Roman Coppola\\', \\'original_name\\': \\'Roman Coppola\\', \\'popularity\\': 7.401, \\'profile_path\\': \\'/rKamKkx78qjZTfvqi2OWCo5p6x5.jpg\\', \\'cast_id\\': 182, \\'character\\': \\'Boy on Street Who Attended Funeral (uncredited)\\', \\'credit_id\\': \\'6489af3ce2726001287c0ab0\\', \\'order\\': 34}, {\\'adult\\': False, \\'gender\\': 1, \\'id\\': 1769, \\'known_for_department\\': \\'Directing\\', \\'name\\': \\'Sofia Coppola\\', \\'original_name\\': \\'Sofia Coppola\\', \\'popularity\\': 6.753, \\'profile_path\\': \\'/dzHC2LxmarkBxWLhjp2DRa5oCev.jpg\\', \\'cast_id\\': 181, \\'character\\': \\'Michael Francis Rizzi (uncredited)\\', \\'credit_id\\': \\'6489af2de375c000acc797fe\\', \\'order\\': 35}, {\\'adult\\': False, \\'gender\\': 0, \\'id\\': 1209294, \\'known_for_department\\': \\'Acting\\', \\'name\\': \\'Don Costello\\', \\'original_name\\': \\'Don Costello\\', \\'popularity\\': 1.276, \\'profile_path\\': None, \\'cast_id\\': 183, \\'character\\': \\'Don Victor Stracci (uncredited)\\', \\'credit_id\\': \\'6489af7abf31f2505883d309\\', \\'order\\': 36}, {\\'adult\\': False, \\'gender\\': 1, \\'id\\': 126072, \\'known_for_department\\': \\'Acting\\', \\'name\\': \\'Italia Coppola\\', \\'original_name\\': \\'Italia Coppola\\', \\'popularity\\': 1.115, \\'profile_path\\': None, \\'cast_id\\': 184, \\'character\\': \\'Extra in Wedding Scene (uncredited)\\', \\'credit_id\\': \\'6489afb46f8d95011f243b21\\', \\'order\\': 37}, {\\'adult\\': False, \\'gender\\': 2, \\'id\\': 2870, \\'known_for_department\\': \\'Production\\', \\'name\\': \\'Gray Frederickson\\', \\'original_name\\': \\'Gray Frederickson\\', \\'popularity\\': 2.289, \\'profile_path\\': None, \\'cast_id\\': 195, \\'character\\': \"Cowboy on the Set at Woltz\\'s Studio (uncredited)\", \\'credit_id\\': \\'6489b195e375c00139c270d3\\', \\'order\\': 38}, {\\'adult\\': False, \\'gender\\': 2, \\'id\\': 160621, \\'known_for_department\\': \\'Acting\\', \\'name\\': \\'Ron Gilbert\\', \\'original_name\\': \\'Ron Gilbert\\', \\'popularity\\': 2.292, \\'profile_path\\': \\'/qrY6w2k0YpuMB2yTCOv6cxeQtmw.jpg\\', \\'cast_id\\': 185, \\'character\\': \\'Usher in Bridal Party (uncredited)\\', \\'credit_id\\': \\'6489afe46f8d95013c752d10\\', \\'order\\': 39}, {\\'adult\\': False, \\'gender\\': 2, \\'id\\': 1233541, \\'known_for_department\\': \\'Acting\\', \\'name\\': \\'Sonny Grosso\\', \\'original_name\\': \\'Sonny Grosso\\', \\'popularity\\': 3.986, \\'profile_path\\': None, \\'cast_id\\': 202, \\'character\\': \\'Cop Outside Hospital (uncredited)\\', \\'credit_id\\': \\'6489b33fe272600107248730\\', \\'order\\': 40}, {\\'adult\\': False, \\'gender\\': 2, \\'id\\': 20973, \\'known_for_department\\': \\'Acting\\', \\'name\\': \\'Louis Guss\\', \\'original_name\\': \\'Louis Guss\\', \\'popularity\\': 5.283, \\'profile_path\\': \\'/hz5Akuh4QcqitlifYwDiZ9ut6Tr.jpg\\', \\'cast_id\\': 180, \\'character\\': \\'Don Zaluchi (uncredited)\\', \\'credit_id\\': \\'6489af11e375c000ff4ab5f2\\', \\'order\\': 41}, {\\'adult\\': False, \\'gender\\': 2, \\'id\\': 1068099, \\'known_for_department\\': \\'Acting\\', \\'name\\': \\'Randy Jurgensen\\', \\'original_name\\': \\'Randy Jurgensen\\', \\'popularity\\': 2.419, \\'profile_path\\': \\'/xRoN79wRLndTMCJoaBSsdjQVIzI.jpg\\', \\'cast_id\\': 186, \\'character\\': \"Sonny\\'s Killer #1 (uncredited)\", \\'credit_id\\': \\'6489affed2b209014e0b8fdb\\', \\'order\\': 42}, {\\'adult\\': False, \\'gender\\': 2, \\'id\\': 55672, \\'known_for_department\\': \\'Acting\\', \\'name\\': \\'Tony King\\', \\'original_name\\': \\'Tony King\\', \\'popularity\\': 6.225, \\'profile_path\\': \\'/hOVVHEyc6euuuRhCLo6Q5YE4lLz.jpg\\', \\'cast_id\\': 196, \\'character\\': \\'Tony - Stablehand (uncredited)\\', \\'credit_id\\': \\'6489b214e375c000ff4ab714\\', \\'order\\': 43}, {\\'adult\\': False, \\'gender\\': 2, \\'id\\': 61241, \\'known_for_department\\': \\'Acting\\', \\'name\\': \\'Tony Lip\\', \\'original_name\\': \\'Tony Lip\\', \\'popularity\\': 2.068, \\'profile_path\\': \\'/6xz6XmjgiCCOm067OzWYziD4Mxa.jpg\\', \\'cast_id\\': 206, \\'character\\': \\'Wedding Guest (uncredited)\\', \\'credit_id\\': \\'6489b6276f8d9500e5015933\\', \\'order\\': 44}, {\\'adult\\': False, \\'gender\\': 2, \\'id\\': 1503036, \\'known_for_department\\': \\'Acting\\', \\'name\\': \\'Joe Lo Grippo\\', \\'original_name\\': \\'Joe Lo Grippo\\', \\'popularity\\': 0.786, \\'profile_path\\': None, \\'cast_id\\': 188, \\'character\\': \"Sonny\\'s Bodyguard (uncredited)\", \\'credit_id\\': \\'6489b0736f8d9500afdf2448\\', \\'order\\': 45}, {\\'adult\\': False, \\'gender\\': 2, \\'id\\': 106187, \\'known_for_department\\': \\'Acting\\', \\'name\\': \\'Lou Martini Jr.\\', \\'original_name\\': \\'Lou Martini Jr.\\', \\'popularity\\': 1.856, \\'profile_path\\': \\'/85s5KR0BA6dhMJtOrvtKGY8Bz8E.jpg\\', \\'cast_id\\': 187, \\'character\\': \\'Boy at Wedding (uncredited)\\', \\'credit_id\\': \\'6489b033d2b20900ca220dd5\\', \\'order\\': 46}, {\\'adult\\': False, \\'gender\\': 2, \\'id\\': 100503, \\'known_for_department\\': \\'Acting\\', \\'name\\': \\'Raymond Martino\\', \\'original_name\\': \\'Raymond Martino\\', \\'popularity\\': 2.391, \\'profile_path\\': None, \\'cast_id\\': 207, \\'character\\': \\'Corleone Family Member (uncredited)\\', \\'credit_id\\': \\'6489b647e272600147bc20cf\\', \\'order\\': 47}, {\\'adult\\': False, \\'gender\\': 2, \\'id\\': 1503035, \\'known_for_department\\': \\'Acting\\', \\'name\\': \\'Joseph Medaglia\\', \\'original_name\\': \\'Joseph Medaglia\\', \\'popularity\\': 2.681, \\'profile_path\\': None, \\'cast_id\\': 191, \\'character\\': \\'Priest at Baptism (uncredited)\\', \\'credit_id\\': \\'6489b100bf31f250569dd401\\', \\'order\\': 48}, {\\'adult\\': False, \\'gender\\': 1, \\'id\\': 2313192, \\'known_for_department\\': \\'Acting\\', \\'name\\': \\'Carol Morley\\', \\'original_name\\': \\'Carol Morley\\', \\'popularity\\': 0.6, \\'profile_path\\': None, \\'cast_id\\': 190, \\'character\\': \\'Night Nurse (uncredited)\\', \\'credit_id\\': \\'6489b0cee27260010724864d\\', \\'order\\': 49}, {\\'adult\\': False, \\'gender\\': 0, \\'id\\': 1290895, \\'known_for_department\\': \\'Acting\\', \\'name\\': \\'Rick Petrucelli\\', \\'original_name\\': \\'Rick Petrucelli\\', \\'popularity\\': 0.6, \\'profile_path\\': None, \\'cast_id\\': 189, \\'character\\': \"Lou - Sollozzo\\'s Driver (uncredited)\", \\'credit_id\\': \\'6489b09f99259c00accf128f\\', \\'order\\': 50}, {\\'adult\\': False, \\'gender\\': 2, \\'id\\': 1237372, \\'known_for_department\\': \\'Acting\\', \\'name\\': \\'Sal Richards\\', \\'original_name\\': \\'Sal Richards\\', \\'popularity\\': 1.125, \\'profile_path\\': \\'/gZSiZOtBVv1U4hqjlKkPr2p5rCP.jpg\\', \\'cast_id\\': 198, \\'character\\': \\'Drunk (uncredited)\\', \\'credit_id\\': \\'6489b2a2bf31f2505708a90f\\', \\'order\\': 51}, {\\'adult\\': False, \\'gender\\': 2, \\'id\\': 1213795, \\'known_for_department\\': \\'Acting\\', \\'name\\': \\'Tom Rosqui\\', \\'original_name\\': \\'Tom Rosqui\\', \\'popularity\\': 4.036, \\'profile_path\\': None, \\'cast_id\\': 192, \\'character\\': \\'Rocco Lampone (uncredited)\\', \\'credit_id\\': \\'6489b118e375c0011c8206ba\\', \\'order\\': 52}, {\\'adult\\': False, \\'gender\\': 2, \\'id\\': 11480, \\'known_for_department\\': \\'Acting\\', \\'name\\': \\'Frank Sivero\\', \\'original_name\\': \\'Frank Sivero\\', \\'popularity\\': 7.375, \\'profile_path\\': \\'/eqvhj0iNtcsN6EJhd21Goqi1DSq.jpg\\', \\'cast_id\\': 199, \\'character\\': \\'Street Extra (uncredited)\\', \\'credit_id\\': \\'6489b2f3e2726000e8c326a5\\', \\'order\\': 53}, {\\'adult\\': False, \\'gender\\': 0, \\'id\\': 1209678, \\'known_for_department\\': \\'Acting\\', \\'name\\': \\'Filomena Spagnuolo\\', \\'original_name\\': \\'Filomena Spagnuolo\\', \\'popularity\\': 1.81, \\'profile_path\\': None, \\'cast_id\\': 200, \\'character\\': \\'Extra in Wedding Scene (uncredited)\\', \\'credit_id\\': \\'6489b306bf31f2505f40b8be\\', \\'order\\': 54}, {\\'adult\\': False, \\'gender\\': 2, \\'id\\': 16525, \\'known_for_department\\': \\'Acting\\', \\'name\\': \\'Joe Spinell\\', \\'original_name\\': \\'Joe Spinell\\', \\'popularity\\': 10.295, \\'profile_path\\': \\'/jiok99ZvHDOj51BBgio2qvum0Mb.jpg\\', \\'cast_id\\': 193, \\'character\\': \\'Willi Cicci (uncredited)\\', \\'credit_id\\': \\'6489b12ee2726000e8c325be\\', \\'order\\': 55}, {\\'adult\\': False, \\'gender\\': 2, \\'id\\': 138211, \\'known_for_department\\': \\'Acting\\', \\'name\\': \\'Gabriele Torrei\\', \\'original_name\\': \\'Gabriele Torrei\\', \\'popularity\\': 1.995, \\'profile_path\\': \\'/x3KeYWTWX5SqZ3NuQGiWiadO4DI.jpg\\', \\'cast_id\\': 197, \\'character\\': \\'Enzo the Baker (uncredited)\\', \\'credit_id\\': \\'6489b22a99259c00e2f7628c\\', \\'order\\': 56}, {\\'adult\\': False, \\'gender\\': 2, \\'id\\': 78336, \\'known_for_department\\': \\'Directing\\', \\'name\\': \\'Nick Vallelonga\\', \\'original_name\\': \\'Nick Vallelonga\\', \\'popularity\\': 4.619, \\'profile_path\\': \\'/h0GwAHN1J5lDysqgWxMIg66LNBW.jpg\\', \\'cast_id\\': 201, \\'character\\': \\'Wedding Party Guest (uncredited)\\', \\'credit_id\\': \\'6489b320e375c00139c2715d\\', \\'order\\': 57}, {\\'adult\\': False, \\'gender\\': 2, \\'id\\': 1234848, \\'known_for_department\\': \\'Acting\\', \\'name\\': \\'Conrad Yama\\', \\'original_name\\': \\'Conrad Yama\\', \\'popularity\\': 2.333, \\'profile_path\\': None, \\'cast_id\\': 194, \\'character\\': \\'Fruit Vendor (uncredited)\\', \\'credit_id\\': \\'6489b146e375c00139c270aa\\', \\'order\\': 58}]'],\n",
       "      dtype=object)"
      ]
     },
     "execution_count": 11,
     "metadata": {},
     "output_type": "execute_result"
    }
   ],
   "source": [
    "df.head(1)['cast'].values"
   ]
  },
  {
   "cell_type": "code",
   "execution_count": 12,
   "id": "dbcf33c9",
   "metadata": {},
   "outputs": [],
   "source": [
    "df_model = df.copy()\n",
    "df_model = df_model[['id', 'title', 'overview', 'keywords','genre_ids', 'cast', 'crew', 'year']]"
   ]
  },
  {
   "cell_type": "code",
   "execution_count": 13,
   "id": "bba73ad3",
   "metadata": {},
   "outputs": [
    {
     "data": {
      "text/plain": [
       "id           0\n",
       "title        0\n",
       "overview     2\n",
       "keywords     0\n",
       "genre_ids    0\n",
       "cast         0\n",
       "crew         0\n",
       "year         0\n",
       "dtype: int64"
      ]
     },
     "execution_count": 13,
     "metadata": {},
     "output_type": "execute_result"
    }
   ],
   "source": [
    "df_model.isnull().sum()"
   ]
  },
  {
   "cell_type": "code",
   "execution_count": 14,
   "id": "d4974044",
   "metadata": {},
   "outputs": [],
   "source": [
    "df_model.dropna(inplace = True)"
   ]
  },
  {
   "cell_type": "code",
   "execution_count": 15,
   "id": "79bc0e1e",
   "metadata": {},
   "outputs": [
    {
     "data": {
      "text/plain": [
       "0"
      ]
     },
     "execution_count": 15,
     "metadata": {},
     "output_type": "execute_result"
    }
   ],
   "source": [
    "df_model.duplicated().sum()"
   ]
  },
  {
   "cell_type": "code",
   "execution_count": 16,
   "id": "9f3b5cc0",
   "metadata": {},
   "outputs": [
    {
     "data": {
      "text/plain": [
       "\"[{'id': 378, 'name': 'prison'}, {'id': 417, 'name': 'corruption'}, {'id': 796, 'name': 'police brutality'}, {'id': 818, 'name': 'based on novel or book'}, {'id': 2885, 'name': 'prison cell'}, {'id': 4779, 'name': 'delinquent'}, {'id': 8622, 'name': 'parole board'}, {'id': 9777, 'name': 'prison escape'}, {'id': 12662, 'name': 'wrongful imprisonment'}, {'id': 180172, 'name': 'framed for murder'}, {'id': 207883, 'name': '1940s'}, {'id': 236369, 'name': 'voiceover'}]\""
      ]
     },
     "execution_count": 16,
     "metadata": {},
     "output_type": "execute_result"
    }
   ],
   "source": [
    "df_model.iloc[1].keywords"
   ]
  },
  {
   "cell_type": "code",
   "execution_count": 17,
   "id": "c7efcac1",
   "metadata": {},
   "outputs": [],
   "source": [
    "import ast\n",
    "def ext_k(a):\n",
    "    \n",
    "    lst = []\n",
    "    for i in ast.literal_eval(a):\n",
    "        lst.append(i['name'])\n",
    "    return lst"
   ]
  },
  {
   "cell_type": "code",
   "execution_count": 18,
   "id": "8f3e05e2",
   "metadata": {},
   "outputs": [],
   "source": [
    "df_model['keywords']=df_model['keywords'].apply(ext_k)"
   ]
  },
  {
   "cell_type": "code",
   "execution_count": 19,
   "id": "1166c268",
   "metadata": {},
   "outputs": [
    {
     "data": {
      "text/html": [
       "<div>\n",
       "<style scoped>\n",
       "    .dataframe tbody tr th:only-of-type {\n",
       "        vertical-align: middle;\n",
       "    }\n",
       "\n",
       "    .dataframe tbody tr th {\n",
       "        vertical-align: top;\n",
       "    }\n",
       "\n",
       "    .dataframe thead th {\n",
       "        text-align: right;\n",
       "    }\n",
       "</style>\n",
       "<table border=\"1\" class=\"dataframe\">\n",
       "  <thead>\n",
       "    <tr style=\"text-align: right;\">\n",
       "      <th></th>\n",
       "      <th>id</th>\n",
       "      <th>title</th>\n",
       "      <th>overview</th>\n",
       "      <th>keywords</th>\n",
       "      <th>genre_ids</th>\n",
       "      <th>cast</th>\n",
       "      <th>crew</th>\n",
       "      <th>year</th>\n",
       "    </tr>\n",
       "  </thead>\n",
       "  <tbody>\n",
       "    <tr>\n",
       "      <th>0</th>\n",
       "      <td>238</td>\n",
       "      <td>The Godfather</td>\n",
       "      <td>Spanning the years 1945 to 1955, a chronicle o...</td>\n",
       "      <td>[italy, loss of loved one, love at first sight...</td>\n",
       "      <td>['Drama', 'Crime']</td>\n",
       "      <td>[{'adult': False, 'gender': 2, 'id': 3084, 'kn...</td>\n",
       "      <td>[{'adult': False, 'gender': 2, 'id': 154, 'kno...</td>\n",
       "      <td>1972</td>\n",
       "    </tr>\n",
       "  </tbody>\n",
       "</table>\n",
       "</div>"
      ],
      "text/plain": [
       "    id          title                                           overview  \\\n",
       "0  238  The Godfather  Spanning the years 1945 to 1955, a chronicle o...   \n",
       "\n",
       "                                            keywords           genre_ids  \\\n",
       "0  [italy, loss of loved one, love at first sight...  ['Drama', 'Crime']   \n",
       "\n",
       "                                                cast  \\\n",
       "0  [{'adult': False, 'gender': 2, 'id': 3084, 'kn...   \n",
       "\n",
       "                                                crew  year  \n",
       "0  [{'adult': False, 'gender': 2, 'id': 154, 'kno...  1972  "
      ]
     },
     "execution_count": 19,
     "metadata": {},
     "output_type": "execute_result"
    }
   ],
   "source": [
    "df_model.head(1)"
   ]
  },
  {
   "cell_type": "code",
   "execution_count": 20,
   "id": "132d3873",
   "metadata": {},
   "outputs": [],
   "source": [
    "def ext_cast(a):\n",
    "    \n",
    "    lst = []\n",
    "    c = 0\n",
    "    for i in ast.literal_eval(a):\n",
    "        if c < 3:\n",
    "            lst.append(i['name'])\n",
    "        c += 1\n",
    "    return lst"
   ]
  },
  {
   "cell_type": "code",
   "execution_count": 21,
   "id": "6bcdb01a",
   "metadata": {},
   "outputs": [],
   "source": [
    "df_model['cast'] = df_model['cast'].apply(ext_cast)"
   ]
  },
  {
   "cell_type": "code",
   "execution_count": 22,
   "id": "e3ee84d2",
   "metadata": {},
   "outputs": [
    {
     "data": {
      "text/html": [
       "<div>\n",
       "<style scoped>\n",
       "    .dataframe tbody tr th:only-of-type {\n",
       "        vertical-align: middle;\n",
       "    }\n",
       "\n",
       "    .dataframe tbody tr th {\n",
       "        vertical-align: top;\n",
       "    }\n",
       "\n",
       "    .dataframe thead th {\n",
       "        text-align: right;\n",
       "    }\n",
       "</style>\n",
       "<table border=\"1\" class=\"dataframe\">\n",
       "  <thead>\n",
       "    <tr style=\"text-align: right;\">\n",
       "      <th></th>\n",
       "      <th>id</th>\n",
       "      <th>title</th>\n",
       "      <th>overview</th>\n",
       "      <th>keywords</th>\n",
       "      <th>genre_ids</th>\n",
       "      <th>cast</th>\n",
       "      <th>crew</th>\n",
       "      <th>year</th>\n",
       "    </tr>\n",
       "  </thead>\n",
       "  <tbody>\n",
       "    <tr>\n",
       "      <th>0</th>\n",
       "      <td>238</td>\n",
       "      <td>The Godfather</td>\n",
       "      <td>Spanning the years 1945 to 1955, a chronicle o...</td>\n",
       "      <td>[italy, loss of loved one, love at first sight...</td>\n",
       "      <td>['Drama', 'Crime']</td>\n",
       "      <td>[Marlon Brando, Al Pacino, James Caan]</td>\n",
       "      <td>[{'adult': False, 'gender': 2, 'id': 154, 'kno...</td>\n",
       "      <td>1972</td>\n",
       "    </tr>\n",
       "  </tbody>\n",
       "</table>\n",
       "</div>"
      ],
      "text/plain": [
       "    id          title                                           overview  \\\n",
       "0  238  The Godfather  Spanning the years 1945 to 1955, a chronicle o...   \n",
       "\n",
       "                                            keywords           genre_ids  \\\n",
       "0  [italy, loss of loved one, love at first sight...  ['Drama', 'Crime']   \n",
       "\n",
       "                                     cast  \\\n",
       "0  [Marlon Brando, Al Pacino, James Caan]   \n",
       "\n",
       "                                                crew  year  \n",
       "0  [{'adult': False, 'gender': 2, 'id': 154, 'kno...  1972  "
      ]
     },
     "execution_count": 22,
     "metadata": {},
     "output_type": "execute_result"
    }
   ],
   "source": [
    "df_model.head(1)"
   ]
  },
  {
   "cell_type": "code",
   "execution_count": 23,
   "id": "323d7877",
   "metadata": {},
   "outputs": [],
   "source": [
    "def ext_crew(a):\n",
    "    \n",
    "    lst = []\n",
    "    for i in ast.literal_eval(a):\n",
    "        if i['job'] == 'Director':\n",
    "            lst.append(i['name'])\n",
    "        \n",
    "    return lst"
   ]
  },
  {
   "cell_type": "code",
   "execution_count": 24,
   "id": "de5a47dc",
   "metadata": {
    "scrolled": false
   },
   "outputs": [],
   "source": [
    "df_model['director'] = df_model['crew'].apply(ext_crew)"
   ]
  },
  {
   "cell_type": "code",
   "execution_count": 25,
   "id": "e7da62ce",
   "metadata": {},
   "outputs": [
    {
     "data": {
      "text/html": [
       "<div>\n",
       "<style scoped>\n",
       "    .dataframe tbody tr th:only-of-type {\n",
       "        vertical-align: middle;\n",
       "    }\n",
       "\n",
       "    .dataframe tbody tr th {\n",
       "        vertical-align: top;\n",
       "    }\n",
       "\n",
       "    .dataframe thead th {\n",
       "        text-align: right;\n",
       "    }\n",
       "</style>\n",
       "<table border=\"1\" class=\"dataframe\">\n",
       "  <thead>\n",
       "    <tr style=\"text-align: right;\">\n",
       "      <th></th>\n",
       "      <th>id</th>\n",
       "      <th>title</th>\n",
       "      <th>overview</th>\n",
       "      <th>keywords</th>\n",
       "      <th>genre_ids</th>\n",
       "      <th>cast</th>\n",
       "      <th>crew</th>\n",
       "      <th>year</th>\n",
       "      <th>director</th>\n",
       "    </tr>\n",
       "  </thead>\n",
       "  <tbody>\n",
       "    <tr>\n",
       "      <th>0</th>\n",
       "      <td>238</td>\n",
       "      <td>The Godfather</td>\n",
       "      <td>Spanning the years 1945 to 1955, a chronicle o...</td>\n",
       "      <td>[italy, loss of loved one, love at first sight...</td>\n",
       "      <td>['Drama', 'Crime']</td>\n",
       "      <td>[Marlon Brando, Al Pacino, James Caan]</td>\n",
       "      <td>[{'adult': False, 'gender': 2, 'id': 154, 'kno...</td>\n",
       "      <td>1972</td>\n",
       "      <td>[Francis Ford Coppola]</td>\n",
       "    </tr>\n",
       "  </tbody>\n",
       "</table>\n",
       "</div>"
      ],
      "text/plain": [
       "    id          title                                           overview  \\\n",
       "0  238  The Godfather  Spanning the years 1945 to 1955, a chronicle o...   \n",
       "\n",
       "                                            keywords           genre_ids  \\\n",
       "0  [italy, loss of loved one, love at first sight...  ['Drama', 'Crime']   \n",
       "\n",
       "                                     cast  \\\n",
       "0  [Marlon Brando, Al Pacino, James Caan]   \n",
       "\n",
       "                                                crew  year  \\\n",
       "0  [{'adult': False, 'gender': 2, 'id': 154, 'kno...  1972   \n",
       "\n",
       "                 director  \n",
       "0  [Francis Ford Coppola]  "
      ]
     },
     "execution_count": 25,
     "metadata": {},
     "output_type": "execute_result"
    }
   ],
   "source": [
    "df_model.head(1)"
   ]
  },
  {
   "cell_type": "code",
   "execution_count": 26,
   "id": "95fc88f4",
   "metadata": {},
   "outputs": [
    {
     "data": {
      "text/html": [
       "<div>\n",
       "<style scoped>\n",
       "    .dataframe tbody tr th:only-of-type {\n",
       "        vertical-align: middle;\n",
       "    }\n",
       "\n",
       "    .dataframe tbody tr th {\n",
       "        vertical-align: top;\n",
       "    }\n",
       "\n",
       "    .dataframe thead th {\n",
       "        text-align: right;\n",
       "    }\n",
       "</style>\n",
       "<table border=\"1\" class=\"dataframe\">\n",
       "  <thead>\n",
       "    <tr style=\"text-align: right;\">\n",
       "      <th></th>\n",
       "      <th>id</th>\n",
       "      <th>title</th>\n",
       "      <th>overview</th>\n",
       "      <th>keywords</th>\n",
       "      <th>genre_ids</th>\n",
       "      <th>cast</th>\n",
       "      <th>year</th>\n",
       "      <th>director</th>\n",
       "    </tr>\n",
       "  </thead>\n",
       "  <tbody>\n",
       "    <tr>\n",
       "      <th>0</th>\n",
       "      <td>238</td>\n",
       "      <td>The Godfather</td>\n",
       "      <td>Spanning the years 1945 to 1955, a chronicle o...</td>\n",
       "      <td>[italy, loss of loved one, love at first sight...</td>\n",
       "      <td>['Drama', 'Crime']</td>\n",
       "      <td>[Marlon Brando, Al Pacino, James Caan]</td>\n",
       "      <td>1972</td>\n",
       "      <td>[Francis Ford Coppola]</td>\n",
       "    </tr>\n",
       "  </tbody>\n",
       "</table>\n",
       "</div>"
      ],
      "text/plain": [
       "    id          title                                           overview  \\\n",
       "0  238  The Godfather  Spanning the years 1945 to 1955, a chronicle o...   \n",
       "\n",
       "                                            keywords           genre_ids  \\\n",
       "0  [italy, loss of loved one, love at first sight...  ['Drama', 'Crime']   \n",
       "\n",
       "                                     cast  year                director  \n",
       "0  [Marlon Brando, Al Pacino, James Caan]  1972  [Francis Ford Coppola]  "
      ]
     },
     "execution_count": 26,
     "metadata": {},
     "output_type": "execute_result"
    }
   ],
   "source": [
    "df_model.drop(['crew'], axis = 1, inplace = True)\n",
    "df_model.head(1)"
   ]
  },
  {
   "cell_type": "code",
   "execution_count": 27,
   "id": "dbb034b9",
   "metadata": {},
   "outputs": [],
   "source": [
    "def ext_gen(a):    \n",
    "    lst = []\n",
    "    for i in ast.literal_eval(a):\n",
    "        lst.append(i)\n",
    "    return lst"
   ]
  },
  {
   "cell_type": "code",
   "execution_count": 28,
   "id": "0bd29117",
   "metadata": {},
   "outputs": [],
   "source": [
    "df_model['genres'] = df_model['genre_ids'].apply(ext_gen)"
   ]
  },
  {
   "cell_type": "code",
   "execution_count": 29,
   "id": "0c4b6068",
   "metadata": {},
   "outputs": [
    {
     "data": {
      "text/html": [
       "<div>\n",
       "<style scoped>\n",
       "    .dataframe tbody tr th:only-of-type {\n",
       "        vertical-align: middle;\n",
       "    }\n",
       "\n",
       "    .dataframe tbody tr th {\n",
       "        vertical-align: top;\n",
       "    }\n",
       "\n",
       "    .dataframe thead th {\n",
       "        text-align: right;\n",
       "    }\n",
       "</style>\n",
       "<table border=\"1\" class=\"dataframe\">\n",
       "  <thead>\n",
       "    <tr style=\"text-align: right;\">\n",
       "      <th></th>\n",
       "      <th>id</th>\n",
       "      <th>title</th>\n",
       "      <th>overview</th>\n",
       "      <th>keywords</th>\n",
       "      <th>genre_ids</th>\n",
       "      <th>cast</th>\n",
       "      <th>year</th>\n",
       "      <th>director</th>\n",
       "      <th>genres</th>\n",
       "    </tr>\n",
       "  </thead>\n",
       "  <tbody>\n",
       "    <tr>\n",
       "      <th>0</th>\n",
       "      <td>238</td>\n",
       "      <td>The Godfather</td>\n",
       "      <td>Spanning the years 1945 to 1955, a chronicle o...</td>\n",
       "      <td>[italy, loss of loved one, love at first sight...</td>\n",
       "      <td>['Drama', 'Crime']</td>\n",
       "      <td>[Marlon Brando, Al Pacino, James Caan]</td>\n",
       "      <td>1972</td>\n",
       "      <td>[Francis Ford Coppola]</td>\n",
       "      <td>[Drama, Crime]</td>\n",
       "    </tr>\n",
       "  </tbody>\n",
       "</table>\n",
       "</div>"
      ],
      "text/plain": [
       "    id          title                                           overview  \\\n",
       "0  238  The Godfather  Spanning the years 1945 to 1955, a chronicle o...   \n",
       "\n",
       "                                            keywords           genre_ids  \\\n",
       "0  [italy, loss of loved one, love at first sight...  ['Drama', 'Crime']   \n",
       "\n",
       "                                     cast  year                director  \\\n",
       "0  [Marlon Brando, Al Pacino, James Caan]  1972  [Francis Ford Coppola]   \n",
       "\n",
       "           genres  \n",
       "0  [Drama, Crime]  "
      ]
     },
     "execution_count": 29,
     "metadata": {},
     "output_type": "execute_result"
    }
   ],
   "source": [
    "df_model.head(1)"
   ]
  },
  {
   "cell_type": "code",
   "execution_count": 30,
   "id": "0133bb82",
   "metadata": {},
   "outputs": [],
   "source": [
    "def stick(b):\n",
    "    lst2 = []\n",
    "    for i in b:\n",
    "        lst2.append(i.replace(\" \", \"\"))\n",
    "    return lst2"
   ]
  },
  {
   "cell_type": "code",
   "execution_count": 31,
   "id": "f958c298",
   "metadata": {},
   "outputs": [],
   "source": [
    "df_model['cast'] = df_model['cast'].apply(stick)\n",
    "df_model['director'] = df_model['director'].apply(stick)\n",
    "df_model['genres'] = df_model['genres'].apply(stick)\n",
    "df_model['keywords'] = df_model['keywords'].apply(stick)"
   ]
  },
  {
   "cell_type": "code",
   "execution_count": 32,
   "id": "322362d5",
   "metadata": {},
   "outputs": [
    {
     "data": {
      "text/html": [
       "<div>\n",
       "<style scoped>\n",
       "    .dataframe tbody tr th:only-of-type {\n",
       "        vertical-align: middle;\n",
       "    }\n",
       "\n",
       "    .dataframe tbody tr th {\n",
       "        vertical-align: top;\n",
       "    }\n",
       "\n",
       "    .dataframe thead th {\n",
       "        text-align: right;\n",
       "    }\n",
       "</style>\n",
       "<table border=\"1\" class=\"dataframe\">\n",
       "  <thead>\n",
       "    <tr style=\"text-align: right;\">\n",
       "      <th></th>\n",
       "      <th>id</th>\n",
       "      <th>title</th>\n",
       "      <th>overview</th>\n",
       "      <th>keywords</th>\n",
       "      <th>genre_ids</th>\n",
       "      <th>cast</th>\n",
       "      <th>year</th>\n",
       "      <th>director</th>\n",
       "      <th>genres</th>\n",
       "    </tr>\n",
       "  </thead>\n",
       "  <tbody>\n",
       "    <tr>\n",
       "      <th>0</th>\n",
       "      <td>238</td>\n",
       "      <td>The Godfather</td>\n",
       "      <td>Spanning the years 1945 to 1955, a chronicle o...</td>\n",
       "      <td>[italy, lossoflovedone, loveatfirstsight, base...</td>\n",
       "      <td>['Drama', 'Crime']</td>\n",
       "      <td>[MarlonBrando, AlPacino, JamesCaan]</td>\n",
       "      <td>1972</td>\n",
       "      <td>[FrancisFordCoppola]</td>\n",
       "      <td>[Drama, Crime]</td>\n",
       "    </tr>\n",
       "    <tr>\n",
       "      <th>1</th>\n",
       "      <td>278</td>\n",
       "      <td>The Shawshank Redemption</td>\n",
       "      <td>Framed in the 1940s for the double murder of h...</td>\n",
       "      <td>[prison, corruption, policebrutality, basedonn...</td>\n",
       "      <td>['Drama', 'Crime']</td>\n",
       "      <td>[TimRobbins, MorganFreeman, BobGunton]</td>\n",
       "      <td>1994</td>\n",
       "      <td>[FrankDarabont]</td>\n",
       "      <td>[Drama, Crime]</td>\n",
       "    </tr>\n",
       "    <tr>\n",
       "      <th>2</th>\n",
       "      <td>240</td>\n",
       "      <td>The Godfather Part II</td>\n",
       "      <td>In the continuing saga of the Corleone crime f...</td>\n",
       "      <td>[italy, italianamerican, cuba, symbolism, gang...</td>\n",
       "      <td>['Drama', 'Crime']</td>\n",
       "      <td>[AlPacino, RobertDuvall, DianeKeaton]</td>\n",
       "      <td>1974</td>\n",
       "      <td>[FrancisFordCoppola]</td>\n",
       "      <td>[Drama, Crime]</td>\n",
       "    </tr>\n",
       "    <tr>\n",
       "      <th>3</th>\n",
       "      <td>424</td>\n",
       "      <td>Schindler's List</td>\n",
       "      <td>The true story of how businessman Oskar Schind...</td>\n",
       "      <td>[basedonnovelorbook, factory, concentrationcam...</td>\n",
       "      <td>['Drama', 'History', 'War']</td>\n",
       "      <td>[LiamNeeson, BenKingsley, RalphFiennes]</td>\n",
       "      <td>1993</td>\n",
       "      <td>[StevenSpielberg]</td>\n",
       "      <td>[Drama, History, War]</td>\n",
       "    </tr>\n",
       "    <tr>\n",
       "      <th>4</th>\n",
       "      <td>19404</td>\n",
       "      <td>Dilwale Dulhania Le Jayenge</td>\n",
       "      <td>Raj is a rich, carefree, happy-go-lucky second...</td>\n",
       "      <td>[family'sdailylife, familyhistory, love-hatere...</td>\n",
       "      <td>['Comedy', 'Drama', 'Romance']</td>\n",
       "      <td>[ShahRukhKhan, Kajol, AmrishPuri]</td>\n",
       "      <td>1995</td>\n",
       "      <td>[AdityaChopra]</td>\n",
       "      <td>[Comedy, Drama, Romance]</td>\n",
       "    </tr>\n",
       "  </tbody>\n",
       "</table>\n",
       "</div>"
      ],
      "text/plain": [
       "      id                        title  \\\n",
       "0    238                The Godfather   \n",
       "1    278     The Shawshank Redemption   \n",
       "2    240        The Godfather Part II   \n",
       "3    424             Schindler's List   \n",
       "4  19404  Dilwale Dulhania Le Jayenge   \n",
       "\n",
       "                                            overview  \\\n",
       "0  Spanning the years 1945 to 1955, a chronicle o...   \n",
       "1  Framed in the 1940s for the double murder of h...   \n",
       "2  In the continuing saga of the Corleone crime f...   \n",
       "3  The true story of how businessman Oskar Schind...   \n",
       "4  Raj is a rich, carefree, happy-go-lucky second...   \n",
       "\n",
       "                                            keywords  \\\n",
       "0  [italy, lossoflovedone, loveatfirstsight, base...   \n",
       "1  [prison, corruption, policebrutality, basedonn...   \n",
       "2  [italy, italianamerican, cuba, symbolism, gang...   \n",
       "3  [basedonnovelorbook, factory, concentrationcam...   \n",
       "4  [family'sdailylife, familyhistory, love-hatere...   \n",
       "\n",
       "                        genre_ids                                     cast  \\\n",
       "0              ['Drama', 'Crime']      [MarlonBrando, AlPacino, JamesCaan]   \n",
       "1              ['Drama', 'Crime']   [TimRobbins, MorganFreeman, BobGunton]   \n",
       "2              ['Drama', 'Crime']    [AlPacino, RobertDuvall, DianeKeaton]   \n",
       "3     ['Drama', 'History', 'War']  [LiamNeeson, BenKingsley, RalphFiennes]   \n",
       "4  ['Comedy', 'Drama', 'Romance']        [ShahRukhKhan, Kajol, AmrishPuri]   \n",
       "\n",
       "   year              director                    genres  \n",
       "0  1972  [FrancisFordCoppola]            [Drama, Crime]  \n",
       "1  1994       [FrankDarabont]            [Drama, Crime]  \n",
       "2  1974  [FrancisFordCoppola]            [Drama, Crime]  \n",
       "3  1993     [StevenSpielberg]     [Drama, History, War]  \n",
       "4  1995        [AdityaChopra]  [Comedy, Drama, Romance]  "
      ]
     },
     "execution_count": 32,
     "metadata": {},
     "output_type": "execute_result"
    }
   ],
   "source": [
    "df_model.head()"
   ]
  },
  {
   "cell_type": "code",
   "execution_count": 33,
   "id": "b0023124",
   "metadata": {},
   "outputs": [],
   "source": [
    "df_model['overview'] = df_model['overview'].apply(lambda x:x.split())"
   ]
  },
  {
   "cell_type": "code",
   "execution_count": 34,
   "id": "360d0852",
   "metadata": {},
   "outputs": [
    {
     "data": {
      "text/html": [
       "<div>\n",
       "<style scoped>\n",
       "    .dataframe tbody tr th:only-of-type {\n",
       "        vertical-align: middle;\n",
       "    }\n",
       "\n",
       "    .dataframe tbody tr th {\n",
       "        vertical-align: top;\n",
       "    }\n",
       "\n",
       "    .dataframe thead th {\n",
       "        text-align: right;\n",
       "    }\n",
       "</style>\n",
       "<table border=\"1\" class=\"dataframe\">\n",
       "  <thead>\n",
       "    <tr style=\"text-align: right;\">\n",
       "      <th></th>\n",
       "      <th>id</th>\n",
       "      <th>title</th>\n",
       "      <th>overview</th>\n",
       "      <th>keywords</th>\n",
       "      <th>genre_ids</th>\n",
       "      <th>cast</th>\n",
       "      <th>year</th>\n",
       "      <th>director</th>\n",
       "      <th>genres</th>\n",
       "    </tr>\n",
       "  </thead>\n",
       "  <tbody>\n",
       "    <tr>\n",
       "      <th>0</th>\n",
       "      <td>238</td>\n",
       "      <td>The Godfather</td>\n",
       "      <td>[Spanning, the, years, 1945, to, 1955,, a, chr...</td>\n",
       "      <td>[italy, lossoflovedone, loveatfirstsight, base...</td>\n",
       "      <td>['Drama', 'Crime']</td>\n",
       "      <td>[MarlonBrando, AlPacino, JamesCaan]</td>\n",
       "      <td>1972</td>\n",
       "      <td>[FrancisFordCoppola]</td>\n",
       "      <td>[Drama, Crime]</td>\n",
       "    </tr>\n",
       "  </tbody>\n",
       "</table>\n",
       "</div>"
      ],
      "text/plain": [
       "    id          title                                           overview  \\\n",
       "0  238  The Godfather  [Spanning, the, years, 1945, to, 1955,, a, chr...   \n",
       "\n",
       "                                            keywords           genre_ids  \\\n",
       "0  [italy, lossoflovedone, loveatfirstsight, base...  ['Drama', 'Crime']   \n",
       "\n",
       "                                  cast  year              director  \\\n",
       "0  [MarlonBrando, AlPacino, JamesCaan]  1972  [FrancisFordCoppola]   \n",
       "\n",
       "           genres  \n",
       "0  [Drama, Crime]  "
      ]
     },
     "execution_count": 34,
     "metadata": {},
     "output_type": "execute_result"
    }
   ],
   "source": [
    "df_model.head(1)"
   ]
  },
  {
   "cell_type": "code",
   "execution_count": 35,
   "id": "c2409762",
   "metadata": {},
   "outputs": [
    {
     "data": {
      "text/html": [
       "<div>\n",
       "<style scoped>\n",
       "    .dataframe tbody tr th:only-of-type {\n",
       "        vertical-align: middle;\n",
       "    }\n",
       "\n",
       "    .dataframe tbody tr th {\n",
       "        vertical-align: top;\n",
       "    }\n",
       "\n",
       "    .dataframe thead th {\n",
       "        text-align: right;\n",
       "    }\n",
       "</style>\n",
       "<table border=\"1\" class=\"dataframe\">\n",
       "  <thead>\n",
       "    <tr style=\"text-align: right;\">\n",
       "      <th></th>\n",
       "      <th>id</th>\n",
       "      <th>title</th>\n",
       "      <th>overview</th>\n",
       "      <th>keywords</th>\n",
       "      <th>genre_ids</th>\n",
       "      <th>cast</th>\n",
       "      <th>year</th>\n",
       "      <th>director</th>\n",
       "      <th>genres</th>\n",
       "      <th>tags</th>\n",
       "    </tr>\n",
       "  </thead>\n",
       "  <tbody>\n",
       "    <tr>\n",
       "      <th>0</th>\n",
       "      <td>238</td>\n",
       "      <td>The Godfather</td>\n",
       "      <td>[Spanning, the, years, 1945, to, 1955,, a, chr...</td>\n",
       "      <td>[italy, lossoflovedone, loveatfirstsight, base...</td>\n",
       "      <td>['Drama', 'Crime']</td>\n",
       "      <td>[MarlonBrando, AlPacino, JamesCaan]</td>\n",
       "      <td>1972</td>\n",
       "      <td>[FrancisFordCoppola]</td>\n",
       "      <td>[Drama, Crime]</td>\n",
       "      <td>[Spanning, the, years, 1945, to, 1955,, a, chr...</td>\n",
       "    </tr>\n",
       "    <tr>\n",
       "      <th>1</th>\n",
       "      <td>278</td>\n",
       "      <td>The Shawshank Redemption</td>\n",
       "      <td>[Framed, in, the, 1940s, for, the, double, mur...</td>\n",
       "      <td>[prison, corruption, policebrutality, basedonn...</td>\n",
       "      <td>['Drama', 'Crime']</td>\n",
       "      <td>[TimRobbins, MorganFreeman, BobGunton]</td>\n",
       "      <td>1994</td>\n",
       "      <td>[FrankDarabont]</td>\n",
       "      <td>[Drama, Crime]</td>\n",
       "      <td>[Framed, in, the, 1940s, for, the, double, mur...</td>\n",
       "    </tr>\n",
       "    <tr>\n",
       "      <th>2</th>\n",
       "      <td>240</td>\n",
       "      <td>The Godfather Part II</td>\n",
       "      <td>[In, the, continuing, saga, of, the, Corleone,...</td>\n",
       "      <td>[italy, italianamerican, cuba, symbolism, gang...</td>\n",
       "      <td>['Drama', 'Crime']</td>\n",
       "      <td>[AlPacino, RobertDuvall, DianeKeaton]</td>\n",
       "      <td>1974</td>\n",
       "      <td>[FrancisFordCoppola]</td>\n",
       "      <td>[Drama, Crime]</td>\n",
       "      <td>[In, the, continuing, saga, of, the, Corleone,...</td>\n",
       "    </tr>\n",
       "  </tbody>\n",
       "</table>\n",
       "</div>"
      ],
      "text/plain": [
       "    id                     title  \\\n",
       "0  238             The Godfather   \n",
       "1  278  The Shawshank Redemption   \n",
       "2  240     The Godfather Part II   \n",
       "\n",
       "                                            overview  \\\n",
       "0  [Spanning, the, years, 1945, to, 1955,, a, chr...   \n",
       "1  [Framed, in, the, 1940s, for, the, double, mur...   \n",
       "2  [In, the, continuing, saga, of, the, Corleone,...   \n",
       "\n",
       "                                            keywords           genre_ids  \\\n",
       "0  [italy, lossoflovedone, loveatfirstsight, base...  ['Drama', 'Crime']   \n",
       "1  [prison, corruption, policebrutality, basedonn...  ['Drama', 'Crime']   \n",
       "2  [italy, italianamerican, cuba, symbolism, gang...  ['Drama', 'Crime']   \n",
       "\n",
       "                                     cast  year              director  \\\n",
       "0     [MarlonBrando, AlPacino, JamesCaan]  1972  [FrancisFordCoppola]   \n",
       "1  [TimRobbins, MorganFreeman, BobGunton]  1994       [FrankDarabont]   \n",
       "2   [AlPacino, RobertDuvall, DianeKeaton]  1974  [FrancisFordCoppola]   \n",
       "\n",
       "           genres                                               tags  \n",
       "0  [Drama, Crime]  [Spanning, the, years, 1945, to, 1955,, a, chr...  \n",
       "1  [Drama, Crime]  [Framed, in, the, 1940s, for, the, double, mur...  \n",
       "2  [Drama, Crime]  [In, the, continuing, saga, of, the, Corleone,...  "
      ]
     },
     "execution_count": 35,
     "metadata": {},
     "output_type": "execute_result"
    }
   ],
   "source": [
    "df_model['tags'] = df_model['overview'] + df_model['keywords'] + df_model['cast'] + df_model['director'] + df_model['genres']\n",
    "df_model.head(3)"
   ]
  },
  {
   "cell_type": "code",
   "execution_count": 36,
   "id": "306888f5",
   "metadata": {},
   "outputs": [],
   "source": [
    "dp = ['overview', 'keywords', 'cast', 'director', 'genres', 'genre_ids']\n",
    "final = df_model.drop(dp, axis = 1)"
   ]
  },
  {
   "cell_type": "code",
   "execution_count": 37,
   "id": "d051c3a5",
   "metadata": {},
   "outputs": [],
   "source": [
    "final[['year']] = final[['year']].astype(str)"
   ]
  },
  {
   "cell_type": "code",
   "execution_count": 38,
   "id": "09828dc5",
   "metadata": {},
   "outputs": [],
   "source": [
    "final['title2'] = final['title'] + \" (\" + final['year'] + \")\""
   ]
  },
  {
   "cell_type": "code",
   "execution_count": 39,
   "id": "b287f7c5",
   "metadata": {},
   "outputs": [],
   "source": [
    "final.drop('year', axis=1, inplace= True)"
   ]
  },
  {
   "cell_type": "code",
   "execution_count": 40,
   "id": "3c9cfa47",
   "metadata": {},
   "outputs": [
    {
     "data": {
      "text/html": [
       "<div>\n",
       "<style scoped>\n",
       "    .dataframe tbody tr th:only-of-type {\n",
       "        vertical-align: middle;\n",
       "    }\n",
       "\n",
       "    .dataframe tbody tr th {\n",
       "        vertical-align: top;\n",
       "    }\n",
       "\n",
       "    .dataframe thead th {\n",
       "        text-align: right;\n",
       "    }\n",
       "</style>\n",
       "<table border=\"1\" class=\"dataframe\">\n",
       "  <thead>\n",
       "    <tr style=\"text-align: right;\">\n",
       "      <th></th>\n",
       "      <th>id</th>\n",
       "      <th>title</th>\n",
       "      <th>tags</th>\n",
       "      <th>title2</th>\n",
       "    </tr>\n",
       "  </thead>\n",
       "  <tbody>\n",
       "    <tr>\n",
       "      <th>0</th>\n",
       "      <td>238</td>\n",
       "      <td>The Godfather</td>\n",
       "      <td>[Spanning, the, years, 1945, to, 1955,, a, chr...</td>\n",
       "      <td>The Godfather (1972)</td>\n",
       "    </tr>\n",
       "    <tr>\n",
       "      <th>1</th>\n",
       "      <td>278</td>\n",
       "      <td>The Shawshank Redemption</td>\n",
       "      <td>[Framed, in, the, 1940s, for, the, double, mur...</td>\n",
       "      <td>The Shawshank Redemption (1994)</td>\n",
       "    </tr>\n",
       "    <tr>\n",
       "      <th>2</th>\n",
       "      <td>240</td>\n",
       "      <td>The Godfather Part II</td>\n",
       "      <td>[In, the, continuing, saga, of, the, Corleone,...</td>\n",
       "      <td>The Godfather Part II (1974)</td>\n",
       "    </tr>\n",
       "    <tr>\n",
       "      <th>3</th>\n",
       "      <td>424</td>\n",
       "      <td>Schindler's List</td>\n",
       "      <td>[The, true, story, of, how, businessman, Oskar...</td>\n",
       "      <td>Schindler's List (1993)</td>\n",
       "    </tr>\n",
       "    <tr>\n",
       "      <th>4</th>\n",
       "      <td>19404</td>\n",
       "      <td>Dilwale Dulhania Le Jayenge</td>\n",
       "      <td>[Raj, is, a, rich,, carefree,, happy-go-lucky,...</td>\n",
       "      <td>Dilwale Dulhania Le Jayenge (1995)</td>\n",
       "    </tr>\n",
       "  </tbody>\n",
       "</table>\n",
       "</div>"
      ],
      "text/plain": [
       "      id                        title  \\\n",
       "0    238                The Godfather   \n",
       "1    278     The Shawshank Redemption   \n",
       "2    240        The Godfather Part II   \n",
       "3    424             Schindler's List   \n",
       "4  19404  Dilwale Dulhania Le Jayenge   \n",
       "\n",
       "                                                tags  \\\n",
       "0  [Spanning, the, years, 1945, to, 1955,, a, chr...   \n",
       "1  [Framed, in, the, 1940s, for, the, double, mur...   \n",
       "2  [In, the, continuing, saga, of, the, Corleone,...   \n",
       "3  [The, true, story, of, how, businessman, Oskar...   \n",
       "4  [Raj, is, a, rich,, carefree,, happy-go-lucky,...   \n",
       "\n",
       "                               title2  \n",
       "0                The Godfather (1972)  \n",
       "1     The Shawshank Redemption (1994)  \n",
       "2        The Godfather Part II (1974)  \n",
       "3             Schindler's List (1993)  \n",
       "4  Dilwale Dulhania Le Jayenge (1995)  "
      ]
     },
     "execution_count": 40,
     "metadata": {},
     "output_type": "execute_result"
    }
   ],
   "source": [
    "final.head()"
   ]
  },
  {
   "cell_type": "code",
   "execution_count": 41,
   "id": "b0345b15",
   "metadata": {},
   "outputs": [],
   "source": [
    "final['tags'] = final['tags'].apply(lambda x:\" \".join(x))"
   ]
  },
  {
   "cell_type": "code",
   "execution_count": 42,
   "id": "e10a87f0",
   "metadata": {},
   "outputs": [
    {
     "data": {
      "text/html": [
       "<div>\n",
       "<style scoped>\n",
       "    .dataframe tbody tr th:only-of-type {\n",
       "        vertical-align: middle;\n",
       "    }\n",
       "\n",
       "    .dataframe tbody tr th {\n",
       "        vertical-align: top;\n",
       "    }\n",
       "\n",
       "    .dataframe thead th {\n",
       "        text-align: right;\n",
       "    }\n",
       "</style>\n",
       "<table border=\"1\" class=\"dataframe\">\n",
       "  <thead>\n",
       "    <tr style=\"text-align: right;\">\n",
       "      <th></th>\n",
       "      <th>id</th>\n",
       "      <th>title</th>\n",
       "      <th>tags</th>\n",
       "      <th>title2</th>\n",
       "    </tr>\n",
       "  </thead>\n",
       "  <tbody>\n",
       "    <tr>\n",
       "      <th>0</th>\n",
       "      <td>238</td>\n",
       "      <td>The Godfather</td>\n",
       "      <td>Spanning the years 1945 to 1955, a chronicle o...</td>\n",
       "      <td>The Godfather (1972)</td>\n",
       "    </tr>\n",
       "  </tbody>\n",
       "</table>\n",
       "</div>"
      ],
      "text/plain": [
       "    id          title                                               tags  \\\n",
       "0  238  The Godfather  Spanning the years 1945 to 1955, a chronicle o...   \n",
       "\n",
       "                 title2  \n",
       "0  The Godfather (1972)  "
      ]
     },
     "execution_count": 42,
     "metadata": {},
     "output_type": "execute_result"
    }
   ],
   "source": [
    "final.head(1)"
   ]
  },
  {
   "cell_type": "code",
   "execution_count": 43,
   "id": "2f324041",
   "metadata": {},
   "outputs": [],
   "source": [
    "final['tags'] = final['title'] + \" \" + final['tags']"
   ]
  },
  {
   "cell_type": "code",
   "execution_count": 44,
   "id": "eb2e4a16",
   "metadata": {
    "scrolled": true
   },
   "outputs": [
    {
     "data": {
      "text/plain": [
       "'The Godfather Spanning the years 1945 to 1955, a chronicle of the fictional Italian-American Corleone crime family. When organized crime family patriarch, Vito Corleone barely survives an attempt on his life, his youngest son, Michael steps in to take care of the would-be killers, launching a campaign of bloody revenge. italy lossoflovedone loveatfirstsight basedonnovelorbook europe symbolism patriarch organizedcrime mafia lawyer religion revengemotive crimefamily sicilianmafia religioushypocrisy gunviolence risetopower deadhorse gangviolence 1940s 1950s mafiawar MarlonBrando AlPacino JamesCaan FrancisFordCoppola Drama Crime'"
      ]
     },
     "execution_count": 44,
     "metadata": {},
     "output_type": "execute_result"
    }
   ],
   "source": [
    "final['tags'][0]"
   ]
  },
  {
   "cell_type": "code",
   "execution_count": 45,
   "id": "e35c1e6b",
   "metadata": {},
   "outputs": [
    {
     "data": {
      "text/plain": [
       "0       The Godfather Spanning the years 1945 to 1955,...\n",
       "1       The Shawshank Redemption Framed in the 1940s f...\n",
       "2       The Godfather Part II In the continuing saga o...\n",
       "3       Schindler's List The true story of how busines...\n",
       "4       Dilwale Dulhania Le Jayenge Raj is a rich, car...\n",
       "                              ...                        \n",
       "9995    Dark Was the Night An evil is unleashed in a s...\n",
       "9996    Machete Kills Ex-Federale agent Machete is rec...\n",
       "9997    George of the Jungle Deep in the African jungl...\n",
       "9998    Cadaver In the aftermath of a nuclear disaster...\n",
       "9999    Twin Murders: The Silence of the White City Vi...\n",
       "Name: tags, Length: 9998, dtype: object"
      ]
     },
     "execution_count": 45,
     "metadata": {},
     "output_type": "execute_result"
    }
   ],
   "source": [
    "final['tags']"
   ]
  },
  {
   "cell_type": "code",
   "execution_count": 46,
   "id": "4ebbe924",
   "metadata": {},
   "outputs": [],
   "source": [
    "final['tags'] = final['tags'].apply(lambda x: x.lower())"
   ]
  },
  {
   "cell_type": "code",
   "execution_count": 47,
   "id": "2391f286",
   "metadata": {},
   "outputs": [
    {
     "data": {
      "text/plain": [
       "'the godfather spanning the years 1945 to 1955, a chronicle of the fictional italian-american corleone crime family. when organized crime family patriarch, vito corleone barely survives an attempt on his life, his youngest son, michael steps in to take care of the would-be killers, launching a campaign of bloody revenge. italy lossoflovedone loveatfirstsight basedonnovelorbook europe symbolism patriarch organizedcrime mafia lawyer religion revengemotive crimefamily sicilianmafia religioushypocrisy gunviolence risetopower deadhorse gangviolence 1940s 1950s mafiawar marlonbrando alpacino jamescaan francisfordcoppola drama crime'"
      ]
     },
     "execution_count": 47,
     "metadata": {},
     "output_type": "execute_result"
    }
   ],
   "source": [
    "final['tags'][0]"
   ]
  },
  {
   "cell_type": "code",
   "execution_count": 48,
   "id": "3600ff8f",
   "metadata": {},
   "outputs": [],
   "source": [
    "#To standarise the results\n",
    "import nltk\n",
    "from nltk.stem.porter import PorterStemmer"
   ]
  },
  {
   "cell_type": "code",
   "execution_count": 49,
   "id": "e1cbdb03",
   "metadata": {},
   "outputs": [],
   "source": [
    "ps = PorterStemmer()"
   ]
  },
  {
   "cell_type": "code",
   "execution_count": 50,
   "id": "4902302a",
   "metadata": {},
   "outputs": [],
   "source": [
    "def normal(tag):\n",
    "    lst = []\n",
    "    for i in tag.split():\n",
    "        lst.append(ps.stem(i))\n",
    "    nrml = \" \".join(lst)\n",
    "    return nrml"
   ]
  },
  {
   "cell_type": "code",
   "execution_count": 51,
   "id": "5e72b8a2",
   "metadata": {},
   "outputs": [
    {
     "data": {
      "text/plain": [
       "'span the year 1945 to 1955, a chronicl of the fiction italian american corleon crime family. when organ crime famili patriarch, vito corleon bare surviv an attempt on hi life, hi youngest son, michael step in to take care of the would be killers, launch a campaign of bloodi revenge. itali lossoflovedon loveatfirstsight basedonnovelorbook europ symbol patriarch organizedcrim mafia lawyer religion revengemot crimefamili sicilianmafia religioushypocrisi gunviol risetopow deadhors gangviol 1940 1950 mafiawar marlonbrando alpacino jamescaan francisfordcoppola drama crime'"
      ]
     },
     "execution_count": 51,
     "metadata": {},
     "output_type": "execute_result"
    }
   ],
   "source": [
    "normal('spanning the years 1945 to 1955, a chronicle of the fictional italian american corleone crime family. when organized crime family patriarch, vito corleone barely survives an attempt on his life, his youngest son, michael steps in to take care of the would be killers, launching a campaign of bloody revenge. italy lossoflovedone loveatfirstsight basedonnovelorbook europe symbolism patriarch organizedcrime mafia lawyer religion revengemotive crimefamily sicilianmafia religioushypocrisy gunviolence risetopower deadhorse gangviolence 1940s 1950s mafiawar marlonbrando alpacino jamescaan francisfordcoppola drama crime')"
   ]
  },
  {
   "cell_type": "code",
   "execution_count": 52,
   "id": "07a46200",
   "metadata": {},
   "outputs": [],
   "source": [
    "final['tags'] = final['tags'].apply(normal)"
   ]
  },
  {
   "cell_type": "code",
   "execution_count": 53,
   "id": "35ed5d16",
   "metadata": {},
   "outputs": [],
   "source": [
    "from sklearn.feature_extraction.text import CountVectorizer\n",
    "from sklearn.metrics.pairwise import cosine_similarity"
   ]
  },
  {
   "cell_type": "code",
   "execution_count": 100,
   "id": "41f8354d",
   "metadata": {},
   "outputs": [],
   "source": [
    "cv = CountVectorizer(stop_words = 'english', max_features = 3000)\n",
    "movie_vectors = cv.fit_transform(final['tags']).toarray()\n",
    "similarity_score = cosine_similarity(movie_vectors)"
   ]
  },
  {
   "cell_type": "code",
   "execution_count": 101,
   "id": "d40e6a82",
   "metadata": {},
   "outputs": [
    {
     "data": {
      "text/plain": [
       "(9998, 3000)"
      ]
     },
     "execution_count": 101,
     "metadata": {},
     "output_type": "execute_result"
    }
   ],
   "source": [
    "movie_vectors.shape"
   ]
  },
  {
   "cell_type": "code",
   "execution_count": 120,
   "id": "74fafab0",
   "metadata": {},
   "outputs": [
    {
     "data": {
      "text/plain": [
       "(9998, 9998)"
      ]
     },
     "execution_count": 120,
     "metadata": {},
     "output_type": "execute_result"
    }
   ],
   "source": [
    "similarity_score.shape"
   ]
  },
  {
   "cell_type": "code",
   "execution_count": 103,
   "id": "46dad0dd",
   "metadata": {},
   "outputs": [
    {
     "data": {
      "text/plain": [
       "array(['000', '10', '11', ..., 'zombi', 'zone', 'zoo'], dtype=object)"
      ]
     },
     "execution_count": 103,
     "metadata": {},
     "output_type": "execute_result"
    }
   ],
   "source": [
    "cv.get_feature_names_out()"
   ]
  },
  {
   "cell_type": "code",
   "execution_count": 104,
   "id": "fe88303d",
   "metadata": {},
   "outputs": [
    {
     "data": {
      "text/plain": [
       "2"
      ]
     },
     "execution_count": 104,
     "metadata": {},
     "output_type": "execute_result"
    }
   ],
   "source": [
    "final[final['title'] == \"The Godfather Part II\"].index[0]"
   ]
  },
  {
   "cell_type": "code",
   "execution_count": 105,
   "id": "73969c97",
   "metadata": {},
   "outputs": [
    {
     "data": {
      "text/plain": [
       "[(2823, 0.2920125302610444),\n",
       " (319, 0.2539183580595128),\n",
       " (2018, 0.2533201985524494),\n",
       " (5477, 0.22299786933522422),\n",
       " (1914, 0.2132007163556105),\n",
       " (4171, 0.20100756305184245),\n",
       " (6478, 0.1973855084879307),\n",
       " (4440, 0.19512313566832118),\n",
       " (999, 0.19462473604038075),\n",
       " (1464, 0.1899342940993966)]"
      ]
     },
     "execution_count": 105,
     "metadata": {},
     "output_type": "execute_result"
    }
   ],
   "source": [
    "sorted(list(enumerate(similarity_score[15])), reverse = True, key = lambda x: x[1])[1:11]"
   ]
  },
  {
   "cell_type": "code",
   "execution_count": 106,
   "id": "10bc6174",
   "metadata": {},
   "outputs": [],
   "source": [
    "def recommendation_15(title):\n",
    "    movie_id = final[final['title'] == title].index[0]\n",
    "    dist = similarity_score[movie_id]\n",
    "    recommended = sorted(list(enumerate(dist)), reverse = True, key = lambda x: x[1])[1:16]\n",
    "    \n",
    "    for i in recommended:\n",
    "        print(final.iloc[i[0]].title)"
   ]
  },
  {
   "cell_type": "code",
   "execution_count": 107,
   "id": "2b5c44c8",
   "metadata": {},
   "outputs": [
    {
     "data": {
      "text/plain": [
       "0                          The Godfather\n",
       "1               The Shawshank Redemption\n",
       "2                  The Godfather Part II\n",
       "3                       Schindler's List\n",
       "4            Dilwale Dulhania Le Jayenge\n",
       "5    Spider-Man: Across the Spider-Verse\n",
       "6                           12 Angry Men\n",
       "7                          Spirited Away\n",
       "8                             Your Name.\n",
       "9                               Parasite\n",
       "Name: title, dtype: object"
      ]
     },
     "execution_count": 107,
     "metadata": {},
     "output_type": "execute_result"
    }
   ],
   "source": [
    "final['title'].head(10)"
   ]
  },
  {
   "cell_type": "code",
   "execution_count": 108,
   "id": "3e925ef0",
   "metadata": {},
   "outputs": [
    {
     "name": "stdout",
     "output_type": "stream",
     "text": [
      "The Godfather Part III\n",
      "The Godfather\n",
      "Dead Man Down\n",
      "Street Flow\n",
      "Suburra\n",
      "Sharper\n",
      "Bugsy\n",
      "Bomb City\n",
      "Death Wish 3\n",
      "The Mafia Kills Only in Summer\n",
      "The Big Heat\n",
      "Menace II Society\n",
      "The Many Saints of Newark\n",
      "The Informer\n",
      "French Connection II\n"
     ]
    }
   ],
   "source": [
    "recommendation_15('The Godfather Part II')"
   ]
  },
  {
   "cell_type": "code",
   "execution_count": 109,
   "id": "734bec09",
   "metadata": {},
   "outputs": [
    {
     "name": "stdout",
     "output_type": "stream",
     "text": [
      "Spider-Man: Across the Spider-Verse\n",
      "Spider-Man\n",
      "Spider-Man 3\n",
      "Spider-Man: Homecoming\n",
      "Spider-Man: No Way Home\n",
      "Arachnophobia\n",
      "Spider-Man 2\n",
      "The Amazing Spider-Man 2\n",
      "The Amazing Spider-Man\n",
      "Iron Man 2\n",
      "The Invincible Iron Man\n",
      "Spider-Man: Far From Home\n",
      "Big Ass Spider!\n",
      "Charlotte's Web\n",
      "Batman and Harley Quinn\n"
     ]
    }
   ],
   "source": [
    "recommendation_15('Spider-Man: Into the Spider-Verse')"
   ]
  },
  {
   "cell_type": "code",
   "execution_count": 110,
   "id": "c08faef3",
   "metadata": {},
   "outputs": [
    {
     "name": "stdout",
     "output_type": "stream",
     "text": [
      "<class 'pandas.core.frame.DataFrame'>\n",
      "Int64Index: 9998 entries, 0 to 9999\n",
      "Data columns (total 4 columns):\n",
      " #   Column  Non-Null Count  Dtype \n",
      "---  ------  --------------  ----- \n",
      " 0   id      9998 non-null   int64 \n",
      " 1   title   9998 non-null   object\n",
      " 2   tags    9998 non-null   object\n",
      " 3   title2  9998 non-null   object\n",
      "dtypes: int64(1), object(3)\n",
      "memory usage: 648.6+ KB\n"
     ]
    }
   ],
   "source": [
    "final.info()"
   ]
  },
  {
   "cell_type": "code",
   "execution_count": 64,
   "id": "2da7841f",
   "metadata": {},
   "outputs": [],
   "source": [
    "import pickle"
   ]
  },
  {
   "cell_type": "code",
   "execution_count": 65,
   "id": "39b2b16e",
   "metadata": {},
   "outputs": [],
   "source": [
    "movies_dict = final.to_dict()"
   ]
  },
  {
   "cell_type": "code",
   "execution_count": 66,
   "id": "0e9510be",
   "metadata": {},
   "outputs": [],
   "source": [
    "pickle.dump(movies_dict, open('movies_raw.pkl', 'wb'))"
   ]
  },
  {
   "cell_type": "code",
   "execution_count": 111,
   "id": "98696ac4",
   "metadata": {},
   "outputs": [],
   "source": [
    "pickle.dump(similarity_score, open('sim_score.pkl', 'wb'))"
   ]
  },
  {
   "cell_type": "code",
   "execution_count": 114,
   "id": "e79c777c",
   "metadata": {},
   "outputs": [],
   "source": [
    "ss = pd.DataFrame(similarity_score)"
   ]
  },
  {
   "cell_type": "code",
   "execution_count": 115,
   "id": "04182fd9",
   "metadata": {},
   "outputs": [
    {
     "data": {
      "text/html": [
       "<div>\n",
       "<style scoped>\n",
       "    .dataframe tbody tr th:only-of-type {\n",
       "        vertical-align: middle;\n",
       "    }\n",
       "\n",
       "    .dataframe tbody tr th {\n",
       "        vertical-align: top;\n",
       "    }\n",
       "\n",
       "    .dataframe thead th {\n",
       "        text-align: right;\n",
       "    }\n",
       "</style>\n",
       "<table border=\"1\" class=\"dataframe\">\n",
       "  <thead>\n",
       "    <tr style=\"text-align: right;\">\n",
       "      <th></th>\n",
       "      <th>0</th>\n",
       "      <th>1</th>\n",
       "      <th>2</th>\n",
       "      <th>3</th>\n",
       "      <th>4</th>\n",
       "      <th>5</th>\n",
       "      <th>6</th>\n",
       "      <th>7</th>\n",
       "      <th>8</th>\n",
       "      <th>9</th>\n",
       "      <th>...</th>\n",
       "      <th>9988</th>\n",
       "      <th>9989</th>\n",
       "      <th>9990</th>\n",
       "      <th>9991</th>\n",
       "      <th>9992</th>\n",
       "      <th>9993</th>\n",
       "      <th>9994</th>\n",
       "      <th>9995</th>\n",
       "      <th>9996</th>\n",
       "      <th>9997</th>\n",
       "    </tr>\n",
       "  </thead>\n",
       "  <tbody>\n",
       "    <tr>\n",
       "      <th>0</th>\n",
       "      <td>1.000000</td>\n",
       "      <td>0.284268</td>\n",
       "      <td>0.455648</td>\n",
       "      <td>0.086066</td>\n",
       "      <td>0.155902</td>\n",
       "      <td>0.032478</td>\n",
       "      <td>0.117073</td>\n",
       "      <td>0.053606</td>\n",
       "      <td>0.024398</td>\n",
       "      <td>0.084921</td>\n",
       "      <td>...</td>\n",
       "      <td>0.044023</td>\n",
       "      <td>0.034021</td>\n",
       "      <td>0.155543</td>\n",
       "      <td>0.125988</td>\n",
       "      <td>0.000000</td>\n",
       "      <td>0.089087</td>\n",
       "      <td>0.081832</td>\n",
       "      <td>0.068465</td>\n",
       "      <td>0.057735</td>\n",
       "      <td>0.046829</td>\n",
       "    </tr>\n",
       "    <tr>\n",
       "      <th>1</th>\n",
       "      <td>0.284268</td>\n",
       "      <td>1.000000</td>\n",
       "      <td>0.091430</td>\n",
       "      <td>0.146795</td>\n",
       "      <td>0.189934</td>\n",
       "      <td>0.069244</td>\n",
       "      <td>0.159745</td>\n",
       "      <td>0.022858</td>\n",
       "      <td>0.020806</td>\n",
       "      <td>0.024140</td>\n",
       "      <td>...</td>\n",
       "      <td>0.037543</td>\n",
       "      <td>0.000000</td>\n",
       "      <td>0.221079</td>\n",
       "      <td>0.053722</td>\n",
       "      <td>0.000000</td>\n",
       "      <td>0.075974</td>\n",
       "      <td>0.023262</td>\n",
       "      <td>0.077850</td>\n",
       "      <td>0.049237</td>\n",
       "      <td>0.059904</td>\n",
       "    </tr>\n",
       "    <tr>\n",
       "      <th>2</th>\n",
       "      <td>0.455648</td>\n",
       "      <td>0.091430</td>\n",
       "      <td>1.000000</td>\n",
       "      <td>0.055364</td>\n",
       "      <td>0.085960</td>\n",
       "      <td>0.020892</td>\n",
       "      <td>0.090371</td>\n",
       "      <td>0.137931</td>\n",
       "      <td>0.062776</td>\n",
       "      <td>0.109254</td>\n",
       "      <td>...</td>\n",
       "      <td>0.056637</td>\n",
       "      <td>0.000000</td>\n",
       "      <td>0.033352</td>\n",
       "      <td>0.121566</td>\n",
       "      <td>0.028318</td>\n",
       "      <td>0.028653</td>\n",
       "      <td>0.070186</td>\n",
       "      <td>0.058722</td>\n",
       "      <td>0.074278</td>\n",
       "      <td>0.030124</td>\n",
       "    </tr>\n",
       "    <tr>\n",
       "      <th>3</th>\n",
       "      <td>0.086066</td>\n",
       "      <td>0.146795</td>\n",
       "      <td>0.055364</td>\n",
       "      <td>1.000000</td>\n",
       "      <td>0.069007</td>\n",
       "      <td>0.050315</td>\n",
       "      <td>0.072548</td>\n",
       "      <td>0.027682</td>\n",
       "      <td>0.075593</td>\n",
       "      <td>0.029235</td>\n",
       "      <td>...</td>\n",
       "      <td>0.022733</td>\n",
       "      <td>0.000000</td>\n",
       "      <td>0.107096</td>\n",
       "      <td>0.032530</td>\n",
       "      <td>0.045466</td>\n",
       "      <td>0.023002</td>\n",
       "      <td>0.056344</td>\n",
       "      <td>0.023570</td>\n",
       "      <td>0.029814</td>\n",
       "      <td>0.048365</td>\n",
       "    </tr>\n",
       "    <tr>\n",
       "      <th>4</th>\n",
       "      <td>0.155902</td>\n",
       "      <td>0.189934</td>\n",
       "      <td>0.085960</td>\n",
       "      <td>0.069007</td>\n",
       "      <td>1.000000</td>\n",
       "      <td>0.086802</td>\n",
       "      <td>0.125157</td>\n",
       "      <td>0.057307</td>\n",
       "      <td>0.078246</td>\n",
       "      <td>0.060523</td>\n",
       "      <td>...</td>\n",
       "      <td>0.070593</td>\n",
       "      <td>0.181848</td>\n",
       "      <td>0.166282</td>\n",
       "      <td>0.033672</td>\n",
       "      <td>0.047062</td>\n",
       "      <td>0.047619</td>\n",
       "      <td>0.058321</td>\n",
       "      <td>0.121988</td>\n",
       "      <td>0.030861</td>\n",
       "      <td>0.050063</td>\n",
       "    </tr>\n",
       "  </tbody>\n",
       "</table>\n",
       "<p>5 rows × 9998 columns</p>\n",
       "</div>"
      ],
      "text/plain": [
       "       0         1         2         3         4         5         6     \\\n",
       "0  1.000000  0.284268  0.455648  0.086066  0.155902  0.032478  0.117073   \n",
       "1  0.284268  1.000000  0.091430  0.146795  0.189934  0.069244  0.159745   \n",
       "2  0.455648  0.091430  1.000000  0.055364  0.085960  0.020892  0.090371   \n",
       "3  0.086066  0.146795  0.055364  1.000000  0.069007  0.050315  0.072548   \n",
       "4  0.155902  0.189934  0.085960  0.069007  1.000000  0.086802  0.125157   \n",
       "\n",
       "       7         8         9     ...      9988      9989      9990      9991  \\\n",
       "0  0.053606  0.024398  0.084921  ...  0.044023  0.034021  0.155543  0.125988   \n",
       "1  0.022858  0.020806  0.024140  ...  0.037543  0.000000  0.221079  0.053722   \n",
       "2  0.137931  0.062776  0.109254  ...  0.056637  0.000000  0.033352  0.121566   \n",
       "3  0.027682  0.075593  0.029235  ...  0.022733  0.000000  0.107096  0.032530   \n",
       "4  0.057307  0.078246  0.060523  ...  0.070593  0.181848  0.166282  0.033672   \n",
       "\n",
       "       9992      9993      9994      9995      9996      9997  \n",
       "0  0.000000  0.089087  0.081832  0.068465  0.057735  0.046829  \n",
       "1  0.000000  0.075974  0.023262  0.077850  0.049237  0.059904  \n",
       "2  0.028318  0.028653  0.070186  0.058722  0.074278  0.030124  \n",
       "3  0.045466  0.023002  0.056344  0.023570  0.029814  0.048365  \n",
       "4  0.047062  0.047619  0.058321  0.121988  0.030861  0.050063  \n",
       "\n",
       "[5 rows x 9998 columns]"
      ]
     },
     "execution_count": 115,
     "metadata": {},
     "output_type": "execute_result"
    }
   ],
   "source": []
  },
  {
   "cell_type": "code",
   "execution_count": 116,
   "id": "911b6424",
   "metadata": {},
   "outputs": [],
   "source": [
    "ss.to_csv('ss.csv')"
   ]
  }
 ],
 "metadata": {
  "kernelspec": {
   "display_name": "Python 3 (ipykernel)",
   "language": "python",
   "name": "python3"
  },
  "language_info": {
   "codemirror_mode": {
    "name": "ipython",
    "version": 3
   },
   "file_extension": ".py",
   "mimetype": "text/x-python",
   "name": "python",
   "nbconvert_exporter": "python",
   "pygments_lexer": "ipython3",
   "version": "3.11.1"
  }
 },
 "nbformat": 4,
 "nbformat_minor": 5
}
